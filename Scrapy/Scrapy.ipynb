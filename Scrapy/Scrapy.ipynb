{
 "cells": [
  {
   "cell_type": "markdown",
   "id": "411b384e-4867-4872-847f-915dbc1069cf",
   "metadata": {},
   "source": [
    "# Scrapy\n",
    "<li>A python framework for web-crawling</li>\n",
    "<li>It can also be used for fetching data from APIs or as a scraper</li>"
   ]
  },
  {
   "cell_type": "code",
   "execution_count": 2,
   "id": "57e13134-32dd-45be-b25f-54a4a3bf0b2e",
   "metadata": {},
   "outputs": [],
   "source": [
    "# to install scrapy library \n",
    "# !pip install scrapy"
   ]
  },
  {
   "cell_type": "code",
   "execution_count": 4,
   "id": "63e37bb7-f792-4872-a196-6b9eafe96089",
   "metadata": {},
   "outputs": [
    {
     "name": "stdout",
     "output_type": "stream",
     "text": [
      "New Scrapy project 'quotescrawler', using template directory 'D:\\Anaconda\\Lib\\site-packages\\scrapy\\templates\\project', created in:\n",
      "    C:\\Users\\Keshav\\Desktop\\python for data science\\jupyter overview\\quotescrawler\n",
      "\n",
      "You can start your first spider with:\n",
      "    cd quotescrawler\n",
      "    scrapy genspider example example.com\n"
     ]
    }
   ],
   "source": [
    "! scrapy startproject quotescrawler"
   ]
  },
  {
   "cell_type": "code",
   "execution_count": null,
   "id": "2475bb49-3479-450b-9e5d-1e62dfe79dd5",
   "metadata": {},
   "outputs": [],
   "source": []
  }
 ],
 "metadata": {
  "kernelspec": {
   "display_name": "Python 3 (ipykernel)",
   "language": "python",
   "name": "python3"
  },
  "language_info": {
   "codemirror_mode": {
    "name": "ipython",
    "version": 3
   },
   "file_extension": ".py",
   "mimetype": "text/x-python",
   "name": "python",
   "nbconvert_exporter": "python",
   "pygments_lexer": "ipython3",
   "version": "3.12.7"
  }
 },
 "nbformat": 4,
 "nbformat_minor": 5
}
