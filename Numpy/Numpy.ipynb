{
 "cells": [
  {
   "cell_type": "markdown",
   "id": "eaaabd34-3e6c-4a55-9b45-7fa34b90dc43",
   "metadata": {},
   "source": [
    "# Numpy\n",
    "<li>Numpy is a numarical computiig library for python</li>\n",
    "<li>Numpy support multi dimensional array and matrices</li>\n",
    "<li>It has a lot of built in mathematical function</li>"
   ]
  },
  {
   "cell_type": "code",
   "execution_count": 2,
   "id": "0e84d693-0936-482a-af75-2582e666f45c",
   "metadata": {},
   "outputs": [
    {
     "name": "stdout",
     "output_type": "stream",
     "text": [
      "Requirement already satisfied: numpy in d:\\anaconda\\lib\\site-packages (1.26.4)\n"
     ]
    }
   ],
   "source": [
    "!pip install numpy"
   ]
  },
  {
   "cell_type": "code",
   "execution_count": 3,
   "id": "76bb5e53-b9c9-4369-a015-b08ec775da62",
   "metadata": {},
   "outputs": [],
   "source": [
    "import numpy as np"
   ]
  },
  {
   "cell_type": "markdown",
   "id": "e2e75a3f-38d0-433d-8e5e-30c0b42de6ee",
   "metadata": {},
   "source": [
    "# Why numpy?\n",
    "<li>Perform fast oprations (because of vectorization)</li>\n",
    "<li>numpy array treated as a vectors and mitrices from linear algebra</li>\n"
   ]
  },
  {
   "cell_type": "code",
   "execution_count": 5,
   "id": "6f01d30d-8103-4606-bebe-4d8c519f1c69",
   "metadata": {},
   "outputs": [],
   "source": [
    "lst=[2,3,56,7,6,4,3]"
   ]
  },
  {
   "cell_type": "code",
   "execution_count": 6,
   "id": "ea0d0223-1b27-4d8c-8285-e711c9d8f1ff",
   "metadata": {},
   "outputs": [
    {
     "name": "stdout",
     "output_type": "stream",
     "text": [
      "897 ns ± 277 ns per loop (mean ± std. dev. of 7 runs, 1,000,000 loops each)\n"
     ]
    }
   ],
   "source": [
    "%timeit [i**2 for i in lst]"
   ]
  },
  {
   "cell_type": "code",
   "execution_count": 7,
   "id": "6a46b2db-27be-4448-a100-16a0623a21e9",
   "metadata": {},
   "outputs": [],
   "source": [
    "arr=np.array(lst)"
   ]
  },
  {
   "cell_type": "code",
   "execution_count": 8,
   "id": "0bd375c8-7cad-4f14-9750-7d5bfed6bb8c",
   "metadata": {},
   "outputs": [
    {
     "data": {
      "text/plain": [
       "array([ 2,  3, 56,  7,  6,  4,  3])"
      ]
     },
     "execution_count": 8,
     "metadata": {},
     "output_type": "execute_result"
    }
   ],
   "source": [
    "arr"
   ]
  },
  {
   "cell_type": "code",
   "execution_count": 9,
   "id": "e3c87d35-4cdb-48f8-8ff4-055ed1ef874a",
   "metadata": {},
   "outputs": [
    {
     "name": "stdout",
     "output_type": "stream",
     "text": [
      "1.32 μs ± 81.8 ns per loop (mean ± std. dev. of 7 runs, 1,000,000 loops each)\n"
     ]
    }
   ],
   "source": [
    "%timeit arr**2"
   ]
  },
  {
   "cell_type": "code",
   "execution_count": 10,
   "id": "b4902d95-8a20-464b-ac8e-4624ffecd9fe",
   "metadata": {},
   "outputs": [
    {
     "data": {
      "text/plain": [
       "[2, 3, 56, 7, 6, 4, 3]"
      ]
     },
     "execution_count": 10,
     "metadata": {},
     "output_type": "execute_result"
    }
   ],
   "source": [
    "lst"
   ]
  },
  {
   "cell_type": "code",
   "execution_count": 11,
   "id": "1e196517-6d69-4aea-bdaa-094394e5e104",
   "metadata": {},
   "outputs": [
    {
     "data": {
      "text/plain": [
       "[2, 3, 56, 7, 6, 4, 3, 1]"
      ]
     },
     "execution_count": 11,
     "metadata": {},
     "output_type": "execute_result"
    }
   ],
   "source": [
    "# if a want to add 1 elment of this vector\n",
    "lst +[1]"
   ]
  },
  {
   "cell_type": "code",
   "execution_count": 12,
   "id": "67f56cac-b95c-48e2-9e83-a90804d39d73",
   "metadata": {},
   "outputs": [
    {
     "data": {
      "text/plain": [
       "array([ 3,  4, 57,  8,  7,  5,  4])"
      ]
     },
     "execution_count": 12,
     "metadata": {},
     "output_type": "execute_result"
    }
   ],
   "source": [
    "# but it is possible in numpy array\n",
    "arr + [1]"
   ]
  },
  {
   "cell_type": "markdown",
   "id": "8008cfda-745f-4545-b145-8c6cd43afa94",
   "metadata": {},
   "source": [
    "# Numpy Bsics\n",
    "<b>array:<b>\n",
    "Fundamentals elment in numpy is homogenous array.Numpy array can be 1D , 2D,3D.....nD\n",
    "<li>Different ways to create np array:</li>\n",
    "<ol>np.array()</ol>\n",
    "<ol>np.arange()</ol>"
   ]
  },
  {
   "cell_type": "code",
   "execution_count": 14,
   "id": "b56cb7e5-1bdf-4b78-8499-15fccd878a7a",
   "metadata": {},
   "outputs": [],
   "source": [
    "l=[2,3,4,5,7,7,8]"
   ]
  },
  {
   "cell_type": "code",
   "execution_count": 15,
   "id": "f21eff43-a3a9-4b21-b150-0b402be90d64",
   "metadata": {},
   "outputs": [],
   "source": [
    "np_arr=np.array(l)"
   ]
  },
  {
   "cell_type": "code",
   "execution_count": 16,
   "id": "ff3dd6b3-9d10-4c2a-a9b0-72315e78e02d",
   "metadata": {},
   "outputs": [
    {
     "data": {
      "text/plain": [
       "array([2, 3, 4, 5, 7, 7, 8])"
      ]
     },
     "execution_count": 16,
     "metadata": {},
     "output_type": "execute_result"
    }
   ],
   "source": [
    "np_arr"
   ]
  },
  {
   "cell_type": "code",
   "execution_count": 17,
   "id": "cfc28411-0e5f-44aa-a0d0-ce9166a76845",
   "metadata": {},
   "outputs": [
    {
     "data": {
      "text/plain": [
       "numpy.ndarray"
      ]
     },
     "execution_count": 17,
     "metadata": {},
     "output_type": "execute_result"
    }
   ],
   "source": [
    "type(np_arr)"
   ]
  },
  {
   "cell_type": "code",
   "execution_count": 18,
   "id": "08c11c4d-f3dd-4317-a749-a5b3327b3865",
   "metadata": {},
   "outputs": [
    {
     "data": {
      "text/plain": [
       "1"
      ]
     },
     "execution_count": 18,
     "metadata": {},
     "output_type": "execute_result"
    }
   ],
   "source": [
    "# to check what type of array like 1d,2dor 3d etc..\n",
    "np_arr.ndim"
   ]
  },
  {
   "cell_type": "code",
   "execution_count": 19,
   "id": "03ec30f3-6558-4600-b282-958f365a25a1",
   "metadata": {},
   "outputs": [
    {
     "data": {
      "text/plain": [
       "(7,)"
      ]
     },
     "execution_count": 19,
     "metadata": {},
     "output_type": "execute_result"
    }
   ],
   "source": [
    "# to check how many elemnts in array we will use the shape property\n",
    "np_arr.shape"
   ]
  },
  {
   "cell_type": "markdown",
   "id": "88b9fc87-5791-4eab-9c6a-1616ac3dee60",
   "metadata": {},
   "source": [
    "# Another way of creating np array"
   ]
  },
  {
   "cell_type": "code",
   "execution_count": 208,
   "id": "0488a921-9a0b-4ccf-8538-dc6fa4afd822",
   "metadata": {},
   "outputs": [],
   "source": [
    "new_arr=np.arange(3,11,2)  # start with 3 and iterate over 11 and 11 not be included it is excluded and the step size is 2"
   ]
  },
  {
   "cell_type": "code",
   "execution_count": 210,
   "id": "064e45ee-0231-4328-8505-39ea25128532",
   "metadata": {},
   "outputs": [
    {
     "data": {
      "text/plain": [
       "array([3, 5, 7, 9])"
      ]
     },
     "execution_count": 210,
     "metadata": {},
     "output_type": "execute_result"
    }
   ],
   "source": [
    "new_arr"
   ]
  },
  {
   "cell_type": "markdown",
   "id": "d01817fe-1295-4ee7-9440-973e3a32afa1",
   "metadata": {},
   "source": [
    "# To create 2D array"
   ]
  },
  {
   "cell_type": "code",
   "execution_count": 213,
   "id": "9d2aac97-bb12-4986-b1a5-96394bcbcbf6",
   "metadata": {},
   "outputs": [],
   "source": [
    "lst_2D=[[2,3,4],[5,6,7],[7,8,9]]"
   ]
  },
  {
   "cell_type": "code",
   "execution_count": 215,
   "id": "38ed9b44-d20b-44f5-8b1f-fb80623db387",
   "metadata": {},
   "outputs": [],
   "source": [
    "arr_2D=np.array(lst_2D)"
   ]
  },
  {
   "cell_type": "code",
   "execution_count": 217,
   "id": "ac8e9cac-8a73-4d64-b9b1-367139e15545",
   "metadata": {},
   "outputs": [
    {
     "data": {
      "text/plain": [
       "array([[2, 3, 4],\n",
       "       [5, 6, 7],\n",
       "       [7, 8, 9]])"
      ]
     },
     "execution_count": 217,
     "metadata": {},
     "output_type": "execute_result"
    }
   ],
   "source": [
    "arr_2D"
   ]
  },
  {
   "cell_type": "code",
   "execution_count": 219,
   "id": "37903faa-8965-4844-bfbf-33489167df36",
   "metadata": {},
   "outputs": [
    {
     "data": {
      "text/plain": [
       "(3, 3)"
      ]
     },
     "execution_count": 219,
     "metadata": {},
     "output_type": "execute_result"
    }
   ],
   "source": [
    "arr_2D.shape # to check the element in the array"
   ]
  },
  {
   "cell_type": "code",
   "execution_count": 221,
   "id": "d334de79-b268-4390-a346-f0458bad36ca",
   "metadata": {},
   "outputs": [
    {
     "data": {
      "text/plain": [
       "2"
      ]
     },
     "execution_count": 221,
     "metadata": {},
     "output_type": "execute_result"
    }
   ],
   "source": [
    "# to check what type of array \n",
    "arr_2D.ndim"
   ]
  },
  {
   "cell_type": "markdown",
   "id": "c3c87f35-95d5-426e-a575-a904e99112ce",
   "metadata": {},
   "source": [
    "<h2> special array in Numpy</h2>\n",
    "<li>zeros()</li> \n",
    "<li>ones()</li> \n",
    "<li>diag()</li> \n",
    "<li>identity</li>"
   ]
  },
  {
   "cell_type": "code",
   "execution_count": 30,
   "id": "2f1442eb-8bcf-4d29-ab34-41bf331cc6cb",
   "metadata": {},
   "outputs": [
    {
     "data": {
      "text/plain": [
       "array([[0., 0.],\n",
       "       [0., 0.],\n",
       "       [0., 0.]])"
      ]
     },
     "execution_count": 30,
     "metadata": {},
     "output_type": "execute_result"
    }
   ],
   "source": [
    "# to create a zero matrix\n",
    "np.zeros((3,2))\n"
   ]
  },
  {
   "cell_type": "code",
   "execution_count": 31,
   "id": "9adc3a01-8108-4edd-9917-178ebb61a555",
   "metadata": {},
   "outputs": [
    {
     "data": {
      "text/plain": [
       "array([[1., 1., 1., 1.],\n",
       "       [1., 1., 1., 1.],\n",
       "       [1., 1., 1., 1.],\n",
       "       [1., 1., 1., 1.]])"
      ]
     },
     "execution_count": 31,
     "metadata": {},
     "output_type": "execute_result"
    }
   ],
   "source": [
    "np.ones((4,4))"
   ]
  },
  {
   "cell_type": "code",
   "execution_count": 32,
   "id": "769738b2-8433-4826-a665-dec2530dc258",
   "metadata": {},
   "outputs": [
    {
     "data": {
      "text/plain": [
       "array([[1, 0, 0],\n",
       "       [0, 2, 0],\n",
       "       [0, 0, 3]])"
      ]
     },
     "execution_count": 32,
     "metadata": {},
     "output_type": "execute_result"
    }
   ],
   "source": [
    "np.diag((1,2,3))"
   ]
  },
  {
   "cell_type": "code",
   "execution_count": 33,
   "id": "5a1b51ac-573c-4748-bac5-371c2363fa0f",
   "metadata": {},
   "outputs": [
    {
     "data": {
      "text/plain": [
       "array([[1., 0., 0., 0.],\n",
       "       [0., 1., 0., 0.],\n",
       "       [0., 0., 1., 0.],\n",
       "       [0., 0., 0., 1.]])"
      ]
     },
     "execution_count": 33,
     "metadata": {},
     "output_type": "execute_result"
    }
   ],
   "source": [
    "np.identity(4)"
   ]
  },
  {
   "cell_type": "markdown",
   "id": "bc722ebb-fba5-4c07-b98f-3bb92c8f615e",
   "metadata": {},
   "source": [
    "# Indexing in array"
   ]
  },
  {
   "cell_type": "code",
   "execution_count": 35,
   "id": "e005afbf-f233-4491-ad62-55b243366a88",
   "metadata": {},
   "outputs": [
    {
     "data": {
      "text/plain": [
       "7"
      ]
     },
     "execution_count": 35,
     "metadata": {},
     "output_type": "execute_result"
    }
   ],
   "source": [
    "#to ctrate the random matrix\n",
    "np.random.randint(0,20)"
   ]
  },
  {
   "cell_type": "code",
   "execution_count": 36,
   "id": "6e87f1ec-34ca-405b-91ee-1a6ded694b37",
   "metadata": {},
   "outputs": [],
   "source": [
    "new_arr=np.random.randint(0,20,(3,4))"
   ]
  },
  {
   "cell_type": "code",
   "execution_count": 37,
   "id": "24f2938b-ba7f-4e5c-9f36-61c33f97f239",
   "metadata": {},
   "outputs": [
    {
     "data": {
      "text/plain": [
       "array([[13, 17, 18,  1],\n",
       "       [11,  1,  8, 15],\n",
       "       [ 2, 18,  8, 12]])"
      ]
     },
     "execution_count": 37,
     "metadata": {},
     "output_type": "execute_result"
    }
   ],
   "source": [
    "new_arr"
   ]
  },
  {
   "cell_type": "code",
   "execution_count": 38,
   "id": "4fdf2dd1-5b4b-4a49-86f4-c86e3efeaede",
   "metadata": {},
   "outputs": [
    {
     "data": {
      "text/plain": [
       "array([13, 17, 18,  1])"
      ]
     },
     "execution_count": 38,
     "metadata": {},
     "output_type": "execute_result"
    }
   ],
   "source": [
    "# to acess the first row\n",
    "new_arr[0]"
   ]
  },
  {
   "cell_type": "code",
   "execution_count": 39,
   "id": "8b7c4f52-0695-49a3-b685-4678eea14d13",
   "metadata": {},
   "outputs": [
    {
     "data": {
      "text/plain": [
       "array([11,  1,  8, 15])"
      ]
     },
     "execution_count": 39,
     "metadata": {},
     "output_type": "execute_result"
    }
   ],
   "source": [
    "# to acess the second last element or row \n",
    "new_arr[-2]"
   ]
  },
  {
   "cell_type": "code",
   "execution_count": 40,
   "id": "04020dfe-adb4-4b5b-9a61-095c81f0fa6d",
   "metadata": {},
   "outputs": [
    {
     "name": "stdout",
     "output_type": "stream",
     "text": [
      "13\n",
      "12\n",
      "15\n"
     ]
    }
   ],
   "source": [
    " # first element \n",
    "print(new_arr[0,0])\n",
    "\n",
    "# last element\n",
    "print(new_arr[-1,-1])\n",
    "#last elememt in second row\n",
    "print(new_arr[1,3])"
   ]
  },
  {
   "cell_type": "markdown",
   "id": "8329e628-ceee-4e12-bef3-fa8400983e45",
   "metadata": {},
   "source": [
    "# Array slicing"
   ]
  },
  {
   "cell_type": "code",
   "execution_count": 42,
   "id": "4434498d-fa44-4f3c-92b1-2e6e263319a6",
   "metadata": {},
   "outputs": [
    {
     "data": {
      "text/plain": [
       "array([[13, 17, 18,  1],\n",
       "       [11,  1,  8, 15],\n",
       "       [ 2, 18,  8, 12]])"
      ]
     },
     "execution_count": 42,
     "metadata": {},
     "output_type": "execute_result"
    }
   ],
   "source": [
    "new_arr"
   ]
  },
  {
   "cell_type": "code",
   "execution_count": 43,
   "id": "00dd3315-52f6-4801-a6e9-ecee437a5ed3",
   "metadata": {},
   "outputs": [],
   "source": [
    "# syntax of array slicing\n",
    " #arr[start_row_idx:end_row_idx+1,start_col_idx:end_col_idx+1]"
   ]
  },
  {
   "cell_type": "code",
   "execution_count": 44,
   "id": "f33f953a-1d65-472a-9467-c2e30a912031",
   "metadata": {},
   "outputs": [
    {
     "data": {
      "text/plain": [
       "array([[ 1,  8, 15],\n",
       "       [18,  8, 12]])"
      ]
     },
     "execution_count": 44,
     "metadata": {},
     "output_type": "execute_result"
    }
   ],
   "source": [
    "new_arr[1:,1:]"
   ]
  },
  {
   "cell_type": "code",
   "execution_count": 45,
   "id": "1a1305e3-8bcc-4b4c-992e-911275bdd616",
   "metadata": {},
   "outputs": [
    {
     "data": {
      "text/plain": [
       "array([17,  1, 18])"
      ]
     },
     "execution_count": 45,
     "metadata": {},
     "output_type": "execute_result"
    }
   ],
   "source": [
    "# only 2nd coloum\n",
    "new_arr[:,1]"
   ]
  },
  {
   "cell_type": "code",
   "execution_count": 46,
   "id": "c9dae146-7b67-42fc-8ad0-e4c5fca3fc93",
   "metadata": {},
   "outputs": [],
   "source": [
    "# you can also replace the element \n",
    "new_arr[0,0]=2"
   ]
  },
  {
   "cell_type": "code",
   "execution_count": 47,
   "id": "22889d6c-0e72-4606-9dce-2c8e1435dd34",
   "metadata": {},
   "outputs": [
    {
     "data": {
      "text/plain": [
       "array([[ 2, 17, 18,  1],\n",
       "       [11,  1,  8, 15],\n",
       "       [ 2, 18,  8, 12]])"
      ]
     },
     "execution_count": 47,
     "metadata": {},
     "output_type": "execute_result"
    }
   ],
   "source": [
    "new_arr"
   ]
  },
  {
   "cell_type": "markdown",
   "id": "498108da-a9ab-4eb5-bed5-9e7476f61065",
   "metadata": {},
   "source": [
    "# Masking"
   ]
  },
  {
   "cell_type": "code",
   "execution_count": 49,
   "id": "0d7d2298-f4c3-40d7-8cd6-54287dd5697c",
   "metadata": {},
   "outputs": [
    {
     "name": "stdout",
     "output_type": "stream",
     "text": [
      "[[False  True  True False]\n",
      " [ True False False  True]\n",
      " [False  True False  True]]\n"
     ]
    }
   ],
   "source": [
    "mask=new_arr>10  # whereever the element is grater than 10 it should be true\n",
    "print(mask)  # the mask will gives us the boolean value"
   ]
  },
  {
   "cell_type": "code",
   "execution_count": 50,
   "id": "7b41bf9f-5dca-4efe-9b7d-cbe79caf2f4e",
   "metadata": {},
   "outputs": [
    {
     "data": {
      "text/plain": [
       "6"
      ]
     },
     "execution_count": 50,
     "metadata": {},
     "output_type": "execute_result"
    }
   ],
   "source": [
    "np.sum(mask) # it will gives us the sum of all true "
   ]
  },
  {
   "cell_type": "code",
   "execution_count": 51,
   "id": "4c18cea3-e978-4479-bb7b-72b7ed951413",
   "metadata": {},
   "outputs": [
    {
     "data": {
      "text/plain": [
       "array([17, 18, 11, 15, 18, 12])"
      ]
     },
     "execution_count": 51,
     "metadata": {},
     "output_type": "execute_result"
    }
   ],
   "source": [
    "new_arr[mask]"
   ]
  },
  {
   "cell_type": "code",
   "execution_count": 52,
   "id": "d0cdecc7-7ac6-4437-aa9b-c750dc35b779",
   "metadata": {},
   "outputs": [],
   "source": [
    "new_arr[1:,2:]=0 # if you want to make last few elments will be zero"
   ]
  },
  {
   "cell_type": "code",
   "execution_count": 53,
   "id": "a9fd13a2-7c21-4a51-9fb9-7d912d6b61b0",
   "metadata": {},
   "outputs": [
    {
     "data": {
      "text/plain": [
       "array([[ 2, 17, 18,  1],\n",
       "       [11,  1,  0,  0],\n",
       "       [ 2, 18,  0,  0]])"
      ]
     },
     "execution_count": 53,
     "metadata": {},
     "output_type": "execute_result"
    }
   ],
   "source": [
    "new_arr"
   ]
  },
  {
   "cell_type": "markdown",
   "id": "395caa27-a5c2-4bc8-82ff-ebb8de19a0d9",
   "metadata": {},
   "source": [
    "# Basic operations on array"
   ]
  },
  {
   "cell_type": "code",
   "execution_count": 55,
   "id": "772b8610-938b-43b0-89da-d0c4b8785394",
   "metadata": {},
   "outputs": [],
   "source": [
    "a= np.array([11,12,13,14])\n",
    "b=np.arange(1,5)"
   ]
  },
  {
   "cell_type": "code",
   "execution_count": 56,
   "id": "88bf51ce-fe4a-41f8-be08-b2995ce27b24",
   "metadata": {},
   "outputs": [
    {
     "data": {
      "text/plain": [
       "array([11, 12, 13, 14])"
      ]
     },
     "execution_count": 56,
     "metadata": {},
     "output_type": "execute_result"
    }
   ],
   "source": [
    "a"
   ]
  },
  {
   "cell_type": "code",
   "execution_count": 57,
   "id": "30435c5a-3629-4fd0-975b-55c1c9861291",
   "metadata": {},
   "outputs": [
    {
     "data": {
      "text/plain": [
       "array([1, 2, 3, 4])"
      ]
     },
     "execution_count": 57,
     "metadata": {},
     "output_type": "execute_result"
    }
   ],
   "source": [
    "b"
   ]
  },
  {
   "cell_type": "code",
   "execution_count": 58,
   "id": "565e0c54-39d0-439d-98fb-ae3cd7b884fa",
   "metadata": {},
   "outputs": [
    {
     "data": {
      "text/plain": [
       "array([12, 14, 16, 18])"
      ]
     },
     "execution_count": 58,
     "metadata": {},
     "output_type": "execute_result"
    }
   ],
   "source": [
    "a+b"
   ]
  },
  {
   "cell_type": "code",
   "execution_count": 59,
   "id": "8d6cb8ac-273d-4b67-b5c4-15d79443666b",
   "metadata": {},
   "outputs": [
    {
     "data": {
      "text/plain": [
       "array([10, 10, 10, 10])"
      ]
     },
     "execution_count": 59,
     "metadata": {},
     "output_type": "execute_result"
    }
   ],
   "source": [
    "a-b"
   ]
  },
  {
   "cell_type": "code",
   "execution_count": 60,
   "id": "0aaddbfd-b9c4-4b1d-9ed6-5290a1b61b1d",
   "metadata": {},
   "outputs": [
    {
     "data": {
      "text/plain": [
       "array([11, 24, 39, 56])"
      ]
     },
     "execution_count": 60,
     "metadata": {},
     "output_type": "execute_result"
    }
   ],
   "source": [
    "a*b"
   ]
  },
  {
   "cell_type": "code",
   "execution_count": 61,
   "id": "82528d25-97dc-4002-9eaa-eec5453e843b",
   "metadata": {},
   "outputs": [
    {
     "data": {
      "text/plain": [
       "array([ 1,  4,  9, 16])"
      ]
     },
     "execution_count": 61,
     "metadata": {},
     "output_type": "execute_result"
    }
   ],
   "source": [
    "b**2"
   ]
  },
  {
   "cell_type": "code",
   "execution_count": 62,
   "id": "d8419a0b-32ee-4558-aee5-d339c015eff9",
   "metadata": {},
   "outputs": [
    {
     "data": {
      "text/plain": [
       "array([ True,  True,  True,  True])"
      ]
     },
     "execution_count": 62,
     "metadata": {},
     "output_type": "execute_result"
    }
   ],
   "source": [
    "#masking\n",
    "a>5"
   ]
  },
  {
   "cell_type": "code",
   "execution_count": 63,
   "id": "f1ef9f57-a194-4b3a-826e-c4cca0070b85",
   "metadata": {},
   "outputs": [
    {
     "data": {
      "text/plain": [
       "array([0.        , 0.69314718, 1.09861229, 1.38629436])"
      ]
     },
     "execution_count": 63,
     "metadata": {},
     "output_type": "execute_result"
    }
   ],
   "source": [
    "np.log(b)"
   ]
  },
  {
   "cell_type": "markdown",
   "id": "5486e4b2-d6aa-4b0c-84dd-59ce3778490a",
   "metadata": {},
   "source": [
    "# Matix product"
   ]
  },
  {
   "cell_type": "code",
   "execution_count": 65,
   "id": "fe5ef346-d4d9-43cb-9df4-c8f8549d2e8e",
   "metadata": {},
   "outputs": [],
   "source": [
    "A=np.random.randint(0,5,(3,4))\n",
    "B=np.random.randint(0,5,(4,2))"
   ]
  },
  {
   "cell_type": "code",
   "execution_count": 66,
   "id": "5c83c6fb-6425-4f44-afdd-5e0d70d8f2bc",
   "metadata": {},
   "outputs": [
    {
     "data": {
      "text/plain": [
       "array([[3, 2, 0, 1],\n",
       "       [4, 4, 2, 2],\n",
       "       [3, 2, 0, 0]])"
      ]
     },
     "execution_count": 66,
     "metadata": {},
     "output_type": "execute_result"
    }
   ],
   "source": [
    "A"
   ]
  },
  {
   "cell_type": "code",
   "execution_count": 67,
   "id": "4c553075-95df-4c80-9f5b-aa92aa14ca65",
   "metadata": {},
   "outputs": [
    {
     "data": {
      "text/plain": [
       "array([[4, 3],\n",
       "       [2, 4],\n",
       "       [2, 2],\n",
       "       [4, 1]])"
      ]
     },
     "execution_count": 67,
     "metadata": {},
     "output_type": "execute_result"
    }
   ],
   "source": [
    "B"
   ]
  },
  {
   "cell_type": "code",
   "execution_count": 68,
   "id": "44b56c92-8210-49fd-8926-c280b35e7d16",
   "metadata": {},
   "outputs": [
    {
     "data": {
      "text/plain": [
       "array([[20, 18],\n",
       "       [36, 34],\n",
       "       [16, 17]])"
      ]
     },
     "execution_count": 68,
     "metadata": {},
     "output_type": "execute_result"
    }
   ],
   "source": [
    "# multiplication matrix\n",
    "np.dot(A,B)"
   ]
  },
  {
   "cell_type": "markdown",
   "id": "faf00dae-5f9e-49ca-a363-d963cca8a47f",
   "metadata": {},
   "source": [
    "# More Operations on array"
   ]
  },
  {
   "cell_type": "code",
   "execution_count": 70,
   "id": "67f31d6a-7a4e-4772-b2a1-300b34de5f53",
   "metadata": {},
   "outputs": [],
   "source": [
    "A=np.arange(0,24)"
   ]
  },
  {
   "cell_type": "code",
   "execution_count": 71,
   "id": "a0101941-3061-4776-8444-c4d5370fed50",
   "metadata": {},
   "outputs": [
    {
     "data": {
      "text/plain": [
       "array([ 0,  1,  2,  3,  4,  5,  6,  7,  8,  9, 10, 11, 12, 13, 14, 15, 16,\n",
       "       17, 18, 19, 20, 21, 22, 23])"
      ]
     },
     "execution_count": 71,
     "metadata": {},
     "output_type": "execute_result"
    }
   ],
   "source": [
    "A"
   ]
  },
  {
   "cell_type": "code",
   "execution_count": 72,
   "id": "45d5096f-8c75-44da-9b16-9a0de080c241",
   "metadata": {},
   "outputs": [],
   "source": [
    "A=A.reshape(6,4)"
   ]
  },
  {
   "cell_type": "code",
   "execution_count": 73,
   "id": "c7b9be3a-d941-422e-8284-dbe7d2d0bec5",
   "metadata": {},
   "outputs": [
    {
     "data": {
      "text/plain": [
       "array([[ 0,  1,  2,  3],\n",
       "       [ 4,  5,  6,  7],\n",
       "       [ 8,  9, 10, 11],\n",
       "       [12, 13, 14, 15],\n",
       "       [16, 17, 18, 19],\n",
       "       [20, 21, 22, 23]])"
      ]
     },
     "execution_count": 73,
     "metadata": {},
     "output_type": "execute_result"
    }
   ],
   "source": [
    "A"
   ]
  },
  {
   "cell_type": "code",
   "execution_count": 74,
   "id": "0531c4de-a739-4fbf-8ef1-869f6bfa18ab",
   "metadata": {},
   "outputs": [
    {
     "data": {
      "text/plain": [
       "array([[0.        , 1.        , 1.41421356, 1.73205081],\n",
       "       [2.        , 2.23606798, 2.44948974, 2.64575131],\n",
       "       [2.82842712, 3.        , 3.16227766, 3.31662479],\n",
       "       [3.46410162, 3.60555128, 3.74165739, 3.87298335],\n",
       "       [4.        , 4.12310563, 4.24264069, 4.35889894],\n",
       "       [4.47213595, 4.58257569, 4.69041576, 4.79583152]])"
      ]
     },
     "execution_count": 74,
     "metadata": {},
     "output_type": "execute_result"
    }
   ],
   "source": [
    "#square root of arraya\n",
    "np.sqrt(A)"
   ]
  },
  {
   "cell_type": "code",
   "execution_count": 75,
   "id": "89367ce7-b6e2-4df3-b431-da515ceaaab5",
   "metadata": {},
   "outputs": [
    {
     "data": {
      "text/plain": [
       "276"
      ]
     },
     "execution_count": 75,
     "metadata": {},
     "output_type": "execute_result"
    }
   ],
   "source": [
    "np.sum(A) # sum of array"
   ]
  },
  {
   "cell_type": "code",
   "execution_count": 76,
   "id": "53c06522-ed06-4780-a8d3-5bc19a2b51b0",
   "metadata": {},
   "outputs": [
    {
     "data": {
      "text/plain": [
       "23"
      ]
     },
     "execution_count": 76,
     "metadata": {},
     "output_type": "execute_result"
    }
   ],
   "source": [
    "np.max(A) # max value in array"
   ]
  },
  {
   "cell_type": "code",
   "execution_count": 77,
   "id": "fd0418e5-8559-47a0-a5cb-bf2e35f4c560",
   "metadata": {},
   "outputs": [
    {
     "data": {
      "text/plain": [
       "0"
      ]
     },
     "execution_count": 77,
     "metadata": {},
     "output_type": "execute_result"
    }
   ],
   "source": [
    "np.min(A) # min value in array"
   ]
  },
  {
   "cell_type": "code",
   "execution_count": 78,
   "id": "1939af62-7681-4d71-bbb6-d0c2941a5d23",
   "metadata": {},
   "outputs": [
    {
     "data": {
      "text/plain": [
       "11.5"
      ]
     },
     "execution_count": 78,
     "metadata": {},
     "output_type": "execute_result"
    }
   ],
   "source": [
    "np.mean(A)"
   ]
  },
  {
   "cell_type": "code",
   "execution_count": 79,
   "id": "ee925ef9-6a35-4d40-aa98-2989c5867414",
   "metadata": {},
   "outputs": [
    {
     "data": {
      "text/plain": [
       "11.5"
      ]
     },
     "execution_count": 79,
     "metadata": {},
     "output_type": "execute_result"
    }
   ],
   "source": [
    "np.median(A)"
   ]
  },
  {
   "cell_type": "code",
   "execution_count": 80,
   "id": "a9ad89ec-aae8-4511-8686-ab9e81bb814b",
   "metadata": {},
   "outputs": [
    {
     "data": {
      "text/plain": [
       "6.922186552431729"
      ]
     },
     "execution_count": 80,
     "metadata": {},
     "output_type": "execute_result"
    }
   ],
   "source": [
    "np.std(A)"
   ]
  },
  {
   "cell_type": "code",
   "execution_count": 81,
   "id": "9e68c336-6bfa-4384-b795-b23f3d834d11",
   "metadata": {},
   "outputs": [
    {
     "data": {
      "text/plain": [
       "array([ 6, 22, 38, 54, 70, 86])"
      ]
     },
     "execution_count": 81,
     "metadata": {},
     "output_type": "execute_result"
    }
   ],
   "source": [
    "# you want to sum column wise then\n",
    "np.sum(A,axis=1)"
   ]
  },
  {
   "cell_type": "markdown",
   "id": "dd37358a-2a96-49f2-9a70-e2e91e176524",
   "metadata": {},
   "source": [
    "# Shape manupulation"
   ]
  },
  {
   "cell_type": "code",
   "execution_count": 83,
   "id": "56583cf1-7942-45cc-adf4-85377c1b08dd",
   "metadata": {},
   "outputs": [
    {
     "data": {
      "text/plain": [
       "array([[ 0,  1,  2,  3],\n",
       "       [ 4,  5,  6,  7],\n",
       "       [ 8,  9, 10, 11],\n",
       "       [12, 13, 14, 15],\n",
       "       [16, 17, 18, 19],\n",
       "       [20, 21, 22, 23]])"
      ]
     },
     "execution_count": 83,
     "metadata": {},
     "output_type": "execute_result"
    }
   ],
   "source": [
    "A"
   ]
  },
  {
   "cell_type": "code",
   "execution_count": 84,
   "id": "c5f795df-3085-4241-be85-82c9aac0ac0c",
   "metadata": {},
   "outputs": [
    {
     "data": {
      "text/plain": [
       "array([ 0,  1,  2,  3,  4,  5,  6,  7,  8,  9, 10, 11, 12, 13, 14, 15, 16,\n",
       "       17, 18, 19, 20, 21, 22, 23])"
      ]
     },
     "execution_count": 84,
     "metadata": {},
     "output_type": "execute_result"
    }
   ],
   "source": [
    "# to flat the array\n",
    "A.flatten()"
   ]
  },
  {
   "cell_type": "code",
   "execution_count": 85,
   "id": "a47d213a-3c6e-4c43-a4c4-8df835e1c30a",
   "metadata": {},
   "outputs": [
    {
     "data": {
      "text/plain": [
       "array([[ 0,  1,  2],\n",
       "       [ 3,  4,  5],\n",
       "       [ 6,  7,  8],\n",
       "       [ 9, 10, 11],\n",
       "       [12, 13, 14],\n",
       "       [15, 16, 17],\n",
       "       [18, 19, 20],\n",
       "       [21, 22, 23]])"
      ]
     },
     "execution_count": 85,
     "metadata": {},
     "output_type": "execute_result"
    }
   ],
   "source": [
    "A.reshape(8,3)"
   ]
  },
  {
   "cell_type": "code",
   "execution_count": 86,
   "id": "c42eeee3-3788-443a-b178-8bf27f15a650",
   "metadata": {},
   "outputs": [
    {
     "data": {
      "text/plain": [
       "array([[ 0,  4,  8, 12, 16, 20],\n",
       "       [ 1,  5,  9, 13, 17, 21],\n",
       "       [ 2,  6, 10, 14, 18, 22],\n",
       "       [ 3,  7, 11, 15, 19, 23]])"
      ]
     },
     "execution_count": 86,
     "metadata": {},
     "output_type": "execute_result"
    }
   ],
   "source": [
    "# it convert column to rows and rows to column\n",
    "A.transpose()  # or you can write  np.transpose(A)"
   ]
  },
  {
   "cell_type": "markdown",
   "id": "71d7f2ff-37af-449d-93a1-94bd39cf06da",
   "metadata": {},
   "source": [
    "# Stacking of array  \n",
    "<li>vstack</li> \n",
    "<li>hstack</li>  "
   ]
  },
  {
   "cell_type": "code",
   "execution_count": 88,
   "id": "c4b56b23-cb13-4cb7-a433-b825009a1f0a",
   "metadata": {},
   "outputs": [],
   "source": [
    "a=np.random.randint(0,10,(2,2))\n",
    "b=np.random.randint(0,10,(2,2))"
   ]
  },
  {
   "cell_type": "code",
   "execution_count": 89,
   "id": "05e253a5-b986-4760-a475-b4cf0e9dd7de",
   "metadata": {},
   "outputs": [
    {
     "data": {
      "text/plain": [
       "array([[8, 3],\n",
       "       [1, 2]])"
      ]
     },
     "execution_count": 89,
     "metadata": {},
     "output_type": "execute_result"
    }
   ],
   "source": [
    "a"
   ]
  },
  {
   "cell_type": "code",
   "execution_count": 90,
   "id": "ece8a490-324b-45ae-9b49-04ff7d755629",
   "metadata": {},
   "outputs": [
    {
     "data": {
      "text/plain": [
       "array([[1, 7],\n",
       "       [3, 1]])"
      ]
     },
     "execution_count": 90,
     "metadata": {},
     "output_type": "execute_result"
    }
   ],
   "source": [
    "b"
   ]
  },
  {
   "cell_type": "code",
   "execution_count": 91,
   "id": "34b643e1-a313-4705-81fc-84e0affd1cc5",
   "metadata": {},
   "outputs": [
    {
     "data": {
      "text/plain": [
       "array([[8, 3, 1, 7],\n",
       "       [1, 2, 3, 1]])"
      ]
     },
     "execution_count": 91,
     "metadata": {},
     "output_type": "execute_result"
    }
   ],
   "source": [
    "np.hstack((a,b)) # joint matrix horizontally"
   ]
  },
  {
   "cell_type": "code",
   "execution_count": 92,
   "id": "8e2149ae-45fb-4293-b8bc-a1ac4d82701a",
   "metadata": {},
   "outputs": [
    {
     "data": {
      "text/plain": [
       "array([[8, 3],\n",
       "       [1, 2],\n",
       "       [1, 7],\n",
       "       [3, 1]])"
      ]
     },
     "execution_count": 92,
     "metadata": {},
     "output_type": "execute_result"
    }
   ],
   "source": [
    "np.vstack((a,b)) # joint matrix vertically"
   ]
  },
  {
   "cell_type": "markdown",
   "id": "48142597-1d3a-43eb-8fd3-0123700d2f4c",
   "metadata": {},
   "source": [
    "# Broadcasting\n",
    "<li> first rule of numpy::- 2 Array can perform operation  only when they have same shapes</li>\n",
    "<li>broadcasting let 2 arrays of different shapes to do some operations </li>\n",
    "<li>A small array will repeat itself, and convert to the same shape as of another array</li>"
   ]
  },
  {
   "cell_type": "code",
   "execution_count": 94,
   "id": "bd0e8d84-f504-4023-a393-18b051539e5d",
   "metadata": {},
   "outputs": [],
   "source": [
    "A=np.random.randint(0,10,(3,3))\n",
    "b=np.array([2,3,4])"
   ]
  },
  {
   "cell_type": "code",
   "execution_count": 95,
   "id": "e25648bd-dce8-42b5-976c-5c22b1d0c8b7",
   "metadata": {},
   "outputs": [
    {
     "data": {
      "text/plain": [
       "array([[9, 4, 7],\n",
       "       [5, 8, 4],\n",
       "       [7, 1, 2]])"
      ]
     },
     "execution_count": 95,
     "metadata": {},
     "output_type": "execute_result"
    }
   ],
   "source": [
    "A"
   ]
  },
  {
   "cell_type": "code",
   "execution_count": 96,
   "id": "e6281468-83e4-4a4d-b147-c121f59c8612",
   "metadata": {},
   "outputs": [
    {
     "data": {
      "text/plain": [
       "array([2, 3, 4])"
      ]
     },
     "execution_count": 96,
     "metadata": {},
     "output_type": "execute_result"
    }
   ],
   "source": [
    "b"
   ]
  },
  {
   "cell_type": "code",
   "execution_count": 97,
   "id": "89a8cbbc-3471-4ca1-9441-7ddb99b0421f",
   "metadata": {},
   "outputs": [
    {
     "data": {
      "text/plain": [
       "array([[11,  7, 11],\n",
       "       [ 7, 11,  8],\n",
       "       [ 9,  4,  6]])"
      ]
     },
     "execution_count": 97,
     "metadata": {},
     "output_type": "execute_result"
    }
   ],
   "source": [
    "A+b"
   ]
  },
  {
   "cell_type": "code",
   "execution_count": 98,
   "id": "12a3e32b-0c15-4d58-b52a-5131182d05cd",
   "metadata": {},
   "outputs": [
    {
     "data": {
      "text/plain": [
       "array([2, 3, 4])"
      ]
     },
     "execution_count": 98,
     "metadata": {},
     "output_type": "execute_result"
    }
   ],
   "source": [
    "b.T"
   ]
  },
  {
   "cell_type": "code",
   "execution_count": 99,
   "id": "bdcdad52-4989-46c8-b567-1b753e0da258",
   "metadata": {},
   "outputs": [
    {
     "data": {
      "text/plain": [
       "array([[11,  7, 11],\n",
       "       [ 7, 11,  8],\n",
       "       [ 9,  4,  6]])"
      ]
     },
     "execution_count": 99,
     "metadata": {},
     "output_type": "execute_result"
    }
   ],
   "source": [
    "A+b.T"
   ]
  },
  {
   "cell_type": "code",
   "execution_count": 100,
   "id": "1a202eb2-f527-4668-a736-f6c1afc703c8",
   "metadata": {},
   "outputs": [
    {
     "name": "stdout",
     "output_type": "stream",
     "text": [
      "(3, 3) (3,)\n"
     ]
    }
   ],
   "source": [
    "print(A.shape,b.shape)"
   ]
  },
  {
   "cell_type": "code",
   "execution_count": 101,
   "id": "2b159aa9-62d5-43a1-ac8a-314f9f8a134b",
   "metadata": {},
   "outputs": [
    {
     "data": {
      "text/plain": [
       "array([[9, 4, 7],\n",
       "       [5, 8, 4],\n",
       "       [7, 1, 2]])"
      ]
     },
     "execution_count": 101,
     "metadata": {},
     "output_type": "execute_result"
    }
   ],
   "source": [
    "A"
   ]
  },
  {
   "cell_type": "code",
   "execution_count": 102,
   "id": "9adbeb95-6da7-4c75-8e91-6c0a07be9e9b",
   "metadata": {},
   "outputs": [
    {
     "data": {
      "text/plain": [
       "array([[13,  8, 11],\n",
       "       [ 9, 12,  8],\n",
       "       [11,  5,  6]])"
      ]
     },
     "execution_count": 102,
     "metadata": {},
     "output_type": "execute_result"
    }
   ],
   "source": [
    "A+4"
   ]
  },
  {
   "cell_type": "markdown",
   "id": "b1ce5844-5352-494b-b6a3-82e44b027cb1",
   "metadata": {},
   "source": [
    "# Vectorization\n",
    "perform operation directly on array"
   ]
  },
  {
   "cell_type": "code",
   "execution_count": 104,
   "id": "bec9b3fe-de17-4b42-aa31-3149c82ee18d",
   "metadata": {},
   "outputs": [],
   "source": [
    "p1=np.array([1,2])\n",
    "p2=np.array([5,5])"
   ]
  },
  {
   "cell_type": "code",
   "execution_count": 105,
   "id": "7671a3de-5715-4d99-8367-bbd9bff98c8d",
   "metadata": {},
   "outputs": [
    {
     "name": "stdout",
     "output_type": "stream",
     "text": [
      "5.0\n"
     ]
    }
   ],
   "source": [
    "s=0\n",
    "for i in range(2):\n",
    "    s+= (p2[i]-p1[i])**2\n",
    "print(s**0.5)"
   ]
  },
  {
   "cell_type": "code",
   "execution_count": 106,
   "id": "d03654fa-ecdf-4a6a-84d6-74b6abbc819f",
   "metadata": {},
   "outputs": [
    {
     "data": {
      "text/plain": [
       "5.0"
      ]
     },
     "execution_count": 106,
     "metadata": {},
     "output_type": "execute_result"
    }
   ],
   "source": [
    "np.sqrt(np.sum((p2-p1)**2))"
   ]
  },
  {
   "cell_type": "code",
   "execution_count": 107,
   "id": "dd699cb9-4c28-4d50-96e3-fb2b4b28906b",
   "metadata": {},
   "outputs": [],
   "source": [
    "s=np.arange(1,17,2)"
   ]
  },
  {
   "cell_type": "code",
   "execution_count": 108,
   "id": "f1f382c6-4f37-4b84-bd02-d1aec1ce1f4a",
   "metadata": {},
   "outputs": [
    {
     "data": {
      "text/plain": [
       "array([ 1,  3,  5,  7,  9, 11, 13, 15])"
      ]
     },
     "execution_count": 108,
     "metadata": {},
     "output_type": "execute_result"
    }
   ],
   "source": [
    "s"
   ]
  },
  {
   "cell_type": "code",
   "execution_count": null,
   "id": "4c365407-79fd-43f1-a93b-8224ae65b2c0",
   "metadata": {},
   "outputs": [],
   "source": []
  }
 ],
 "metadata": {
  "kernelspec": {
   "display_name": "Python [conda env:base] *",
   "language": "python",
   "name": "conda-base-py"
  },
  "language_info": {
   "codemirror_mode": {
    "name": "ipython",
    "version": 3
   },
   "file_extension": ".py",
   "mimetype": "text/x-python",
   "name": "python",
   "nbconvert_exporter": "python",
   "pygments_lexer": "ipython3",
   "version": "3.12.7"
  }
 },
 "nbformat": 4,
 "nbformat_minor": 5
}
