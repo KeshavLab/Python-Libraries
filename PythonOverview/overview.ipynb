{
 "cells": [
  {
   "cell_type": "markdown",
   "id": "bb65b0cd-aa27-4db5-bca2-f42bab75562a",
   "metadata": {},
   "source": [
    "# Basics of python for data science"
   ]
  },
  {
   "cell_type": "code",
   "execution_count": 129,
   "id": "89b8ffc8-b77d-414d-b510-839dd40d1ad1",
   "metadata": {},
   "outputs": [
    {
     "name": "stdout",
     "output_type": "stream",
     "text": [
      "hellow word\n"
     ]
    }
   ],
   "source": [
    "# to run the code you simply press shift + Enter\n",
    "print(\"hellow word\")"
   ]
  },
  {
   "cell_type": "code",
   "execution_count": 130,
   "id": "1af23e2a-5da4-4083-8716-690f0f16b580",
   "metadata": {},
   "outputs": [
    {
     "name": "stdout",
     "output_type": "stream",
     "text": [
      "7\n"
     ]
    }
   ],
   "source": [
    "print(3+4)"
   ]
  },
  {
   "cell_type": "code",
   "execution_count": 131,
   "id": "9a64b4d3-87a9-47a2-a198-b36d2437909b",
   "metadata": {},
   "outputs": [
    {
     "name": "stdout",
     "output_type": "stream",
     "text": [
      "14\n",
      "keshav\n"
     ]
    }
   ],
   "source": [
    "a=10\n",
    "print(a+4)\n",
    "print(\"keshav\")"
   ]
  },
  {
   "cell_type": "code",
   "execution_count": null,
   "id": "b1773547-3de4-47d1-9eb2-d6cf7c7f421a",
   "metadata": {},
   "outputs": [],
   "source": []
  },
  {
   "cell_type": "markdown",
   "id": "9af5dbbd-1f2e-4aab-b893-442907309548",
   "metadata": {},
   "source": [
    "# Variables\n",
    "means memory location ko diya gaya name hota hai"
   ]
  },
  {
   "cell_type": "code",
   "execution_count": 133,
   "id": "66288b37-2604-44f8-968a-69cb23cb1e17",
   "metadata": {},
   "outputs": [],
   "source": [
    "i=5"
   ]
  },
  {
   "cell_type": "code",
   "execution_count": 134,
   "id": "861a9f81-e7b1-46dd-a5f1-b999ffd8cd61",
   "metadata": {},
   "outputs": [
    {
     "name": "stdout",
     "output_type": "stream",
     "text": [
      "5\n"
     ]
    }
   ],
   "source": [
    "print(i)"
   ]
  },
  {
   "cell_type": "code",
   "execution_count": 135,
   "id": "fdcbccba-2d51-41ac-8d16-e7538e8982d6",
   "metadata": {},
   "outputs": [
    {
     "name": "stdout",
     "output_type": "stream",
     "text": [
      "14\n"
     ]
    }
   ],
   "source": [
    "print(i+9)"
   ]
  },
  {
   "cell_type": "code",
   "execution_count": 136,
   "id": "919a6be5-806e-4ef3-aff1-2ee17a430c7c",
   "metadata": {},
   "outputs": [
    {
     "data": {
      "text/plain": [
       "int"
      ]
     },
     "execution_count": 136,
     "metadata": {},
     "output_type": "execute_result"
    }
   ],
   "source": [
    "type(i)"
   ]
  },
  {
   "cell_type": "markdown",
   "id": "116154cc-3985-41e9-a09a-05e523571b21",
   "metadata": {},
   "source": [
    "# python:\n",
    "<li>python is dynamically typed langauge </li>\n",
    "<li>because same varibles can take different data types</li>"
   ]
  },
  {
   "cell_type": "code",
   "execution_count": 138,
   "id": "e4c5c8ea-a570-4a0f-af4e-22d651e229e5",
   "metadata": {},
   "outputs": [
    {
     "name": "stdout",
     "output_type": "stream",
     "text": [
      "keshav\n"
     ]
    }
   ],
   "source": [
    "i=\"keshav\"\n",
    "print(i)"
   ]
  },
  {
   "cell_type": "code",
   "execution_count": 139,
   "id": "cd92609a-4056-4168-b5b0-61479c267d30",
   "metadata": {},
   "outputs": [
    {
     "name": "stdout",
     "output_type": "stream",
     "text": [
      "keshav\n"
     ]
    },
    {
     "data": {
      "text/plain": [
       "int"
      ]
     },
     "execution_count": 139,
     "metadata": {},
     "output_type": "execute_result"
    }
   ],
   "source": [
    "print(i)\n",
    "type(a)"
   ]
  },
  {
   "cell_type": "code",
   "execution_count": 140,
   "id": "5bdbb281-c779-4f8a-b91e-271ce69e02c3",
   "metadata": {},
   "outputs": [
    {
     "name": "stdin",
     "output_type": "stream",
     "text": [
      " your name is : Keshav\n"
     ]
    }
   ],
   "source": [
    "name=input(\" your name is :\")"
   ]
  },
  {
   "cell_type": "code",
   "execution_count": 141,
   "id": "bad3bf1c-3fca-4b76-aea2-ef1d5bc32e64",
   "metadata": {},
   "outputs": [
    {
     "name": "stdout",
     "output_type": "stream",
     "text": [
      "Keshav\n"
     ]
    }
   ],
   "source": [
    "print(name)"
   ]
  },
  {
   "cell_type": "code",
   "execution_count": 142,
   "id": "2b8978ca-c170-46de-8f9b-09ea26a1d821",
   "metadata": {},
   "outputs": [
    {
     "name": "stdout",
     "output_type": "stream",
     "text": [
      "<class 'str'>\n"
     ]
    }
   ],
   "source": [
    "print(type(name))"
   ]
  },
  {
   "cell_type": "code",
   "execution_count": 143,
   "id": "71e538de-c13c-458a-a557-2fa328bd74c7",
   "metadata": {},
   "outputs": [
    {
     "name": "stdin",
     "output_type": "stream",
     "text": [
      "enter first number 3\n",
      "enter second  number 5\n"
     ]
    },
    {
     "name": "stdout",
     "output_type": "stream",
     "text": [
      "8\n"
     ]
    }
   ],
   "source": [
    "a=int(input(\"enter first number\"))\n",
    "b=int(input(\"enter second  number\"))\n",
    "print(a+b)"
   ]
  },
  {
   "cell_type": "markdown",
   "id": "9ead943f-5eb1-408a-a9f4-5419f412adeb",
   "metadata": {},
   "source": [
    "# You can do this code in other way"
   ]
  },
  {
   "cell_type": "code",
   "execution_count": 145,
   "id": "02cf6897-9728-4020-a37a-c1b240df9ae4",
   "metadata": {},
   "outputs": [
    {
     "name": "stdin",
     "output_type": "stream",
     "text": [
      "enter first number : 3\n",
      "enter second number : 5\n"
     ]
    },
    {
     "name": "stdout",
     "output_type": "stream",
     "text": [
      "8\n"
     ]
    }
   ],
   "source": [
    "a=input(\"enter first number :\")\n",
    "b=input(\"enter second number :\")\n",
    "d=int(a)+int(b)\n",
    "print(d)"
   ]
  },
  {
   "cell_type": "code",
   "execution_count": 146,
   "id": "913506d0-494b-46dd-a297-dab800b6b310",
   "metadata": {},
   "outputs": [
    {
     "name": "stdout",
     "output_type": "stream",
     "text": [
      "<class 'int'>\n"
     ]
    }
   ],
   "source": [
    "print(type(d))"
   ]
  },
  {
   "cell_type": "code",
   "execution_count": 147,
   "id": "e215b219-7cc7-49d5-a26c-b60cea9d242c",
   "metadata": {},
   "outputs": [
    {
     "name": "stdout",
     "output_type": "stream",
     "text": [
      "0\n"
     ]
    }
   ],
   "source": [
    "print( 10 & 4)"
   ]
  },
  {
   "cell_type": "code",
   "execution_count": 148,
   "id": "53bcfe55-c54d-46c0-8c33-3523eb5135a2",
   "metadata": {},
   "outputs": [
    {
     "name": "stdout",
     "output_type": "stream",
     "text": [
      "14\n"
     ]
    }
   ],
   "source": [
    "print(10 | 4)"
   ]
  },
  {
   "cell_type": "code",
   "execution_count": 149,
   "id": "5e353b00-1fb5-4be5-96bf-a6eeb6057a7b",
   "metadata": {},
   "outputs": [
    {
     "data": {
      "text/plain": [
       "True"
      ]
     },
     "execution_count": 149,
     "metadata": {},
     "output_type": "execute_result"
    }
   ],
   "source": [
    "\"good\" in \"good morning\""
   ]
  },
  {
   "cell_type": "code",
   "execution_count": 150,
   "id": "dad109bf-5f7d-4400-9743-8a0602fbbd26",
   "metadata": {},
   "outputs": [
    {
     "data": {
      "text/plain": [
       "True"
      ]
     },
     "execution_count": 150,
     "metadata": {},
     "output_type": "execute_result"
    }
   ],
   "source": [
    "\"o\" in \"good morning\""
   ]
  },
  {
   "cell_type": "markdown",
   "id": "0c0c9ce4-424f-4856-8216-a489fbc984c4",
   "metadata": {},
   "source": [
    "# Conditional statement :\n",
    "<li>if-else</li>\n",
    "<li>if-elif</li>"
   ]
  },
  {
   "cell_type": "markdown",
   "id": "07a39ebe-daba-4f81-918f-0c5fc8869755",
   "metadata": {},
   "source": [
    "# A program on vote"
   ]
  },
  {
   "cell_type": "markdown",
   "id": "8d95b392-0aef-4b86-bd0a-420862fd5797",
   "metadata": {},
   "source": [
    "## age=int(input(\"enter youer age :\"))\n",
    "if(age>18):\n",
    "    print(\"you can vote\")\n",
    "else:\n",
    "    print(\"you cannot vote!!\")"
   ]
  },
  {
   "cell_type": "markdown",
   "id": "75bbab43-7615-49c4-8d52-1a1da67741df",
   "metadata": {},
   "source": [
    "# Loops in python \n",
    " <li>while loop</li>\n",
    "<li>for loop</li>"
   ]
  },
  {
   "cell_type": "markdown",
   "id": "9552dedd-f8b9-48fa-bc80-90c87b2158eb",
   "metadata": {},
   "source": [
    "# Print Even & Odd numbers between 1 to 20  using while loop and do while loop"
   ]
  },
  {
   "cell_type": "code",
   "execution_count": 156,
   "id": "b1405ead-62bc-4659-bbd1-773d895fc500",
   "metadata": {},
   "outputs": [
    {
     "name": "stdout",
     "output_type": "stream",
     "text": [
      "2 4 6 8 10 12 14 16 18 20 "
     ]
    }
   ],
   "source": [
    " i=1\n",
    "while(i<=20):\n",
    "    if(i%2==0):\n",
    "        print(i,end=\" \")\n",
    "    i=  i+1"
   ]
  },
  {
   "cell_type": "code",
   "execution_count": 157,
   "id": "3236fac9-8883-4951-b524-850554116564",
   "metadata": {},
   "outputs": [
    {
     "name": "stdout",
     "output_type": "stream",
     "text": [
      "1 3 5 7 9 11 13 15 17 19 "
     ]
    }
   ],
   "source": [
    "i=1\n",
    "while(i<=20):\n",
    "    if(i%2!=0):\n",
    "        print(i,end=\" \")\n",
    "    i=i+1"
   ]
  },
  {
   "cell_type": "code",
   "execution_count": 158,
   "id": "673e90cc-0a11-4a6d-8cb2-ef97dae8f757",
   "metadata": {},
   "outputs": [
    {
     "name": "stdout",
     "output_type": "stream",
     "text": [
      "2 4 6 8 10 12 14 16 18 "
     ]
    }
   ],
   "source": [
    "for i in range(1,20):\n",
    "    if(i%2==0):\n",
    "        print(i,end=\" \")\n",
    "    "
   ]
  },
  {
   "cell_type": "code",
   "execution_count": 159,
   "id": "1e81367a-0a5e-46c0-aa80-b255fd283772",
   "metadata": {},
   "outputs": [
    {
     "name": "stdout",
     "output_type": "stream",
     "text": [
      "1 3 5 7 9 11 13 15 17 19 "
     ]
    }
   ],
   "source": [
    "for i in range(20):\n",
    "    if(i%2!=0):\n",
    "        print(i,end=\" \")"
   ]
  },
  {
   "cell_type": "code",
   "execution_count": 160,
   "id": "2a69f69f-bf1f-46ae-aed0-68433e982705",
   "metadata": {},
   "outputs": [
    {
     "name": "stdout",
     "output_type": "stream",
     "text": [
      "0\n",
      "1\n"
     ]
    }
   ],
   "source": [
    "for i in range(2):\n",
    "    print(i)"
   ]
  },
  {
   "cell_type": "code",
   "execution_count": 161,
   "id": "87f0a2f0-d36d-41d5-b4fb-190b0d9ba202",
   "metadata": {},
   "outputs": [
    {
     "name": "stdout",
     "output_type": "stream",
     "text": [
      "2 4 6 8 10 12 14 16 18 "
     ]
    }
   ],
   "source": [
    "for i in range(2,20,2):\n",
    "    print(i,end=\" \")"
   ]
  },
  {
   "cell_type": "code",
   "execution_count": 162,
   "id": "6f02ba2a-4d5d-446b-ac01-94f0c167602d",
   "metadata": {},
   "outputs": [
    {
     "name": "stdin",
     "output_type": "stream",
     "text": [
      "enter a number 2\n"
     ]
    },
    {
     "name": "stdout",
     "output_type": "stream",
     "text": [
      "2 x 1 = 2\n",
      "2 x 2 = 4\n",
      "2 x 3 = 6\n",
      "2 x 4 = 8\n",
      "2 x 5 = 10\n",
      "2 x 6 = 12\n",
      "2 x 7 = 14\n",
      "2 x 8 = 16\n",
      "2 x 9 = 18\n",
      "2 x 10 = 20\n"
     ]
    }
   ],
   "source": [
    "n= int(input(\"enter a number\"))\n",
    "for i in range(1,11):\n",
    "    print(n,\"x\",i,\"=\",n*i)"
   ]
  },
  {
   "cell_type": "markdown",
   "id": "fcef841d-dd18-4f92-9a87-a5165a7af85b",
   "metadata": {},
   "source": [
    "# break and continue statement"
   ]
  },
  {
   "cell_type": "code",
   "execution_count": 164,
   "id": "115bc6da-d03f-43f9-9b61-2a059f90f4fa",
   "metadata": {},
   "outputs": [
    {
     "name": "stdout",
     "output_type": "stream",
     "text": [
      "1\n",
      "2\n",
      "3\n",
      "4\n"
     ]
    }
   ],
   "source": [
    "for i in range(1,10):\n",
    "    if(i==5):\n",
    "        break\n",
    "    print(i)"
   ]
  },
  {
   "cell_type": "code",
   "execution_count": 165,
   "id": "d19c82bf-e3ac-4cc1-86f4-c83825035e86",
   "metadata": {},
   "outputs": [
    {
     "name": "stdout",
     "output_type": "stream",
     "text": [
      "1\n",
      "2\n",
      "3\n",
      "4\n",
      "6\n",
      "7\n",
      "8\n",
      "9\n",
      "10\n"
     ]
    }
   ],
   "source": [
    "for i in range(1,11):\n",
    "    if(i==5):\n",
    "        continue\n",
    "    print(i)"
   ]
  },
  {
   "cell_type": "markdown",
   "id": "7e24b657-d912-4655-abb0-f17fd6090edb",
   "metadata": {},
   "source": [
    "# Program on largest of three numbers"
   ]
  },
  {
   "cell_type": "code",
   "execution_count": 167,
   "id": "49893a9b-e87a-4b8a-84de-5ec16c0a1c0a",
   "metadata": {},
   "outputs": [
    {
     "name": "stdin",
     "output_type": "stream",
     "text": [
      "enter n1 number : 3\n",
      "enter n2 number : 5\n",
      "enter n3 number : 9\n"
     ]
    },
    {
     "name": "stdout",
     "output_type": "stream",
     "text": [
      "largest num is n3 : 9\n"
     ]
    }
   ],
   "source": [
    "n1=int(input(\"enter n1 number :\"))\n",
    "n2=int(input(\"enter n2 number :\"))\n",
    "n3=int(input(\"enter n3 number :\"))\n",
    "if(n1>n2 and n1>n3):\n",
    "    print(\"largest num is n1 :\",n1)\n",
    "elif(n2>n1 and n2>n3):\n",
    "    print(\"largest num is n2 :\",n2)\n",
    "else:\n",
    "    print(\"largest num is n3 :\",n3)"
   ]
  },
  {
   "cell_type": "markdown",
   "id": "850f0eef-fd0c-488b-8ca4-eef278d775ed",
   "metadata": {},
   "source": [
    "# Program o factorial of a number"
   ]
  },
  {
   "cell_type": "code",
   "execution_count": 169,
   "id": "287b65c1-277c-4467-8cab-f37bf43ec57b",
   "metadata": {},
   "outputs": [
    {
     "name": "stdin",
     "output_type": "stream",
     "text": [
      "enter a number 4\n"
     ]
    },
    {
     "name": "stdout",
     "output_type": "stream",
     "text": [
      "the factorial of 4 is 24\n"
     ]
    }
   ],
   "source": [
    "num=int(input(\"enter a number\"))\n",
    "factorial=1\n",
    "if(num<0):\n",
    "    print(\"factorial of neagative number does not exist\")\n",
    "elif(num==0 or num==1):\n",
    "    print(\"factorial of 0 and 1 is 1\")\n",
    "else:\n",
    "    for i in range(1, num+1):\n",
    "        factorial= factorial*i\n",
    "    print(\"the factorial of\", num,\"is\",factorial)"
   ]
  },
  {
   "cell_type": "markdown",
   "id": "fe0e4555-6816-4471-9c02-5ad04b8c2759",
   "metadata": {},
   "source": [
    "# Strings in python"
   ]
  },
  {
   "cell_type": "code",
   "execution_count": 171,
   "id": "73ae3122-4216-4e13-8cdc-fa1d7a1ae4f6",
   "metadata": {},
   "outputs": [
    {
     "name": "stdout",
     "output_type": "stream",
     "text": [
      "hellow how are you\n",
      "<class 'str'>\n"
     ]
    }
   ],
   "source": [
    "# we can create a sting using str keyword\n",
    "my_str=\"hellow how are you\"\n",
    "print(my_str)\n",
    "print(type(my_str))"
   ]
  },
  {
   "cell_type": "code",
   "execution_count": 172,
   "id": "89ee5ac7-4347-465b-b738-1e09eb4c8a1c",
   "metadata": {},
   "outputs": [
    {
     "name": "stdout",
     "output_type": "stream",
     "text": [
      "18\n",
      "h\n",
      "e\n",
      "l\n"
     ]
    }
   ],
   "source": [
    "print(len(my_str))\n",
    "print(my_str[0])\n",
    "print(my_str[1])\n",
    "print(my_str[2])"
   ]
  },
  {
   "cell_type": "markdown",
   "id": "41178f5c-3743-41c7-afee-91ab93e621c3",
   "metadata": {},
   "source": [
    "# Neagative indexing"
   ]
  },
  {
   "cell_type": "code",
   "execution_count": 174,
   "id": "29c47449-7641-4f6f-b53f-5c71cfe1b53d",
   "metadata": {},
   "outputs": [
    {
     "name": "stdout",
     "output_type": "stream",
     "text": [
      "u\n",
      "e\n"
     ]
    }
   ],
   "source": [
    "print(my_str[-1])    # first last character\n",
    "print(my_str[-5])    #fift last character "
   ]
  },
  {
   "cell_type": "markdown",
   "id": "d1278caf-0766-40fa-b330-331d5538d27e",
   "metadata": {},
   "source": [
    "# string slicing \n",
    "<li>extracting multiple character from a string (sub string)</li>\n",
    "<b>syntax :</b>   str[str_idx : end_idx +1]\n"
   ]
  },
  {
   "cell_type": "code",
   "execution_count": 176,
   "id": "aa8053ea-15a0-45ad-80b5-cf4125a8c00a",
   "metadata": {},
   "outputs": [
    {
     "name": "stdout",
     "output_type": "stream",
     "text": [
      "how\n",
      "hellow\n",
      "hellow how are you\n",
      "hellow how are yo\n"
     ]
    }
   ],
   "source": [
    "print(my_str[7:10])\n",
    "print(my_str[0:6])\n",
    "print(my_str[:])   # whenver you put index empty then it return  full string\n",
    "print(my_str[:-1])   # jab bhi aap index empty rakhake usame -1 karoge to to last wala xharacter miss karega"
   ]
  },
  {
   "cell_type": "markdown",
   "id": "ac23ed2a-ab67-41de-bcc6-92d9fffdfaf3",
   "metadata": {},
   "source": [
    "# string functions \n",
    "<li>lower</li>\n",
    "<li>upper</li>\n",
    "<li>title </li>\n",
    "<li>find</li>\n",
    "<li>split</li>"
   ]
  },
  {
   "cell_type": "code",
   "execution_count": 178,
   "id": "e6cf2c08-2cbc-4263-b514-ac3533e5d781",
   "metadata": {},
   "outputs": [
    {
     "data": {
      "text/plain": [
       "'hellow how are you'"
      ]
     },
     "execution_count": 178,
     "metadata": {},
     "output_type": "execute_result"
    }
   ],
   "source": [
    "my_str.lower()"
   ]
  },
  {
   "cell_type": "code",
   "execution_count": 179,
   "id": "38da059c-59a1-4fa5-ae22-c2627ad0d9d1",
   "metadata": {},
   "outputs": [
    {
     "data": {
      "text/plain": [
       "'HELLOW HOW ARE YOU'"
      ]
     },
     "execution_count": 179,
     "metadata": {},
     "output_type": "execute_result"
    }
   ],
   "source": [
    "my_str.upper()"
   ]
  },
  {
   "cell_type": "code",
   "execution_count": 180,
   "id": "4bbfb108-71c5-4ff7-940d-ad44493a1628",
   "metadata": {},
   "outputs": [
    {
     "data": {
      "text/plain": [
       "'Hellow How Are You'"
      ]
     },
     "execution_count": 180,
     "metadata": {},
     "output_type": "execute_result"
    }
   ],
   "source": [
    "my_str.title()"
   ]
  },
  {
   "cell_type": "code",
   "execution_count": 181,
   "id": "b3bd4663-5c27-4554-bfc7-716e27abaca6",
   "metadata": {},
   "outputs": [
    {
     "data": {
      "text/plain": [
       "-1"
      ]
     },
     "execution_count": 181,
     "metadata": {},
     "output_type": "execute_result"
    }
   ],
   "source": [
    "my_str.find(\"the\")  # agar vo character string me nahi hai to vo -1 return karega"
   ]
  },
  {
   "cell_type": "code",
   "execution_count": 182,
   "id": "1f99c50e-2411-4565-ab50-112231bee755",
   "metadata": {},
   "outputs": [
    {
     "data": {
      "text/plain": [
       "15"
      ]
     },
     "execution_count": 182,
     "metadata": {},
     "output_type": "execute_result"
    }
   ],
   "source": [
    "my_str.find(\"you\")   # agar word ya character string me exist karata hai to vo usaka index value return karega"
   ]
  },
  {
   "cell_type": "code",
   "execution_count": 183,
   "id": "605763af-f3ef-4754-ba46-4ec0bb01513e",
   "metadata": {},
   "outputs": [
    {
     "data": {
      "text/plain": [
       "['hellow', 'how', 'are', 'you']"
      ]
     },
     "execution_count": 183,
     "metadata": {},
     "output_type": "execute_result"
    }
   ],
   "source": [
    "my_str.split(\" \")  # it convet all wordas into elemenrs"
   ]
  },
  {
   "cell_type": "markdown",
   "id": "cacd9535-13ee-452b-8f60-7c9e7a6c5445",
   "metadata": {},
   "source": [
    "# Few operations on strings"
   ]
  },
  {
   "cell_type": "code",
   "execution_count": 185,
   "id": "e358e18a-255c-49d1-9d5c-3c39e97aeab5",
   "metadata": {},
   "outputs": [
    {
     "data": {
      "text/plain": [
       "'keshav'"
      ]
     },
     "execution_count": 185,
     "metadata": {},
     "output_type": "execute_result"
    }
   ],
   "source": [
    "# concatination of to string\n",
    "\"kesh\"+\"av\""
   ]
  },
  {
   "cell_type": "code",
   "execution_count": 186,
   "id": "02f2d435-70a4-4931-8e12-9d94d504d39a",
   "metadata": {},
   "outputs": [
    {
     "ename": "TypeError",
     "evalue": "can only concatenate str (not \"int\") to str",
     "output_type": "error",
     "traceback": [
      "\u001b[1;31m---------------------------------------------------------------------------\u001b[0m",
      "\u001b[1;31mTypeError\u001b[0m                                 Traceback (most recent call last)",
      "Cell \u001b[1;32mIn[186], line 2\u001b[0m\n\u001b[0;32m      1\u001b[0m \u001b[38;5;66;03m# cannot concatinate of other fata types\u001b[39;00m\n\u001b[1;32m----> 2\u001b[0m \u001b[38;5;124m\"\u001b[39m\u001b[38;5;124mkesh\u001b[39m\u001b[38;5;124m\"\u001b[39m\u001b[38;5;241m+\u001b[39m \u001b[38;5;241m1\u001b[39m\n",
      "\u001b[1;31mTypeError\u001b[0m: can only concatenate str (not \"int\") to str"
     ]
    }
   ],
   "source": [
    "# cannot concatinate of other fata types\n",
    "\"kesh\"+ 1"
   ]
  },
  {
   "cell_type": "code",
   "execution_count": 219,
   "id": "e39d8db7-17f3-47f6-bd08-a27e86907797",
   "metadata": {},
   "outputs": [
    {
     "data": {
      "text/plain": [
       "'keshav1'"
      ]
     },
     "execution_count": 219,
     "metadata": {},
     "output_type": "execute_result"
    }
   ],
   "source": [
    "# type conversion is the way\n",
    "\"keshav\"+ str(1)"
   ]
  },
  {
   "cell_type": "code",
   "execution_count": 221,
   "id": "8193ae02-ff90-4aed-bdd8-f2cea03455ed",
   "metadata": {},
   "outputs": [
    {
     "data": {
      "text/plain": [
       "'keshavkeshav'"
      ]
     },
     "execution_count": 221,
     "metadata": {},
     "output_type": "execute_result"
    }
   ],
   "source": [
    "#multiplication of string with int n results into repetation\n",
    "\"keshav\"*2"
   ]
  },
  {
   "cell_type": "markdown",
   "id": "399b66ef-4066-4aba-94eb-e3f12bc46963",
   "metadata": {},
   "source": [
    "# Program on palidrome string\n",
    "<li>a palidrome string is that the same read forward or backword  for ex \"dad\"</li>"
   ]
  },
  {
   "cell_type": "code",
   "execution_count": 226,
   "id": "a9f45aff-b986-4fb1-9bc9-930cea6873e2",
   "metadata": {},
   "outputs": [
    {
     "name": "stdin",
     "output_type": "stream",
     "text": [
      "enter your string :  dad\n"
     ]
    },
    {
     "name": "stdout",
     "output_type": "stream",
     "text": [
      "given string is palidrome\n"
     ]
    }
   ],
   "source": [
    "my_str=str(input(\"enter your string : \"))\n",
    "\n",
    "# to make it suitable for caseless comparision\n",
    "my_str= my_str.casefold()\n",
    "# to revers the string\n",
    "rev_str= reversed(my_str)\n",
    "# apply some conditions to it\n",
    "if(list(my_str)== list(rev_str)):\n",
    "    print(\"given string is palidrome\")\n",
    "else:\n",
    "    print(\"given sring is not palidrome\")"
   ]
  },
  {
   "cell_type": "markdown",
   "id": "6b36dfba-ffec-469b-9f56-e11aaaf87176",
   "metadata": {},
   "source": [
    "#  Program on count vowels in a string"
   ]
  },
  {
   "cell_type": "code",
   "execution_count": 229,
   "id": "ebc4d48b-5775-4d3b-b7c5-d248f5d08241",
   "metadata": {},
   "outputs": [
    {
     "name": "stdout",
     "output_type": "stream",
     "text": [
      "3\n"
     ]
    }
   ],
   "source": [
    "string=\"kesheav\"\n",
    "vowels=\"aeiouAEIOU\"\n",
    "count= sum(string.count(vowel) for vowel in vowels)\n",
    "print(count)"
   ]
  },
  {
   "cell_type": "markdown",
   "id": "961ba09f-bd7e-40f3-b45d-a713b5d8547b",
   "metadata": {},
   "source": [
    "# Lists in python\n",
    "\n",
    " <li>ordered / sequence collection of elment</li>\n",
    " <li>indexible</li>\n",
    " <li> mutable</li>\n",
    " <li>can store heterogenous elments</li>\n"
   ]
  },
  {
   "cell_type": "code",
   "execution_count": 232,
   "id": "8528faee-0ed9-4e67-8694-cffcba85e0dc",
   "metadata": {},
   "outputs": [
    {
     "name": "stdout",
     "output_type": "stream",
     "text": [
      "[2, 3, 4, 5, 6]\n",
      "2\n",
      "6\n",
      "[3, 4, 5]\n"
     ]
    }
   ],
   "source": [
    "my_list=[2,3,4,5,6]\n",
    "\n",
    "print(my_list)\n",
    "\n",
    "print(my_list[0])\n",
    "\n",
    "print(my_list[-1])\n",
    "# list slicing\n",
    "print(my_list[1:4])"
   ]
  },
  {
   "cell_type": "code",
   "execution_count": 234,
   "id": "5a51e22d-3269-4093-971c-063b59aadaa9",
   "metadata": {},
   "outputs": [
    {
     "name": "stdout",
     "output_type": "stream",
     "text": [
      "[99, 3, 4, 5, 6]\n"
     ]
    }
   ],
   "source": [
    "# because of mutable property\n",
    "my_list[0]=99 \n",
    "print(my_list)"
   ]
  },
  {
   "cell_type": "code",
   "execution_count": 236,
   "id": "04c9f968-52eb-4b33-ae8b-eb1dec11bfd5",
   "metadata": {},
   "outputs": [
    {
     "name": "stdout",
     "output_type": "stream",
     "text": [
      "[99, 3, 4, 5, 6, 33]\n"
     ]
    }
   ],
   "source": [
    "# add the given element at rhe end of the list\n",
    "my_list.append(33)\n",
    "print(my_list)"
   ]
  },
  {
   "cell_type": "code",
   "execution_count": 238,
   "id": "b9be4904-e3aa-43bf-b624-3ecf8b617995",
   "metadata": {},
   "outputs": [
    {
     "name": "stdout",
     "output_type": "stream",
     "text": [
      "[99, 100, 3, 4, 5, 6, 33]\n"
     ]
    }
   ],
   "source": [
    "# add the given element at the perticular index\n",
    "my_list.insert(1,100)\n",
    "print(my_list)"
   ]
  },
  {
   "cell_type": "code",
   "execution_count": 240,
   "id": "e2ee6ae8-18ea-463a-beda-0d6d1572ce66",
   "metadata": {},
   "outputs": [
    {
     "name": "stdout",
     "output_type": "stream",
     "text": [
      "[99, 100, 3, 4, 5, 6]\n"
     ]
    }
   ],
   "source": [
    "# delets the elment from end\n",
    "my_list.pop()\n",
    "print(my_list)"
   ]
  },
  {
   "cell_type": "code",
   "execution_count": 242,
   "id": "037c4617-034c-4701-967b-1a5273e2c761",
   "metadata": {},
   "outputs": [
    {
     "name": "stdout",
     "output_type": "stream",
     "text": [
      "[99, 3, 4, 5, 6]\n"
     ]
    }
   ],
   "source": [
    "# delets elements from perticulars index\n",
    "my_list.pop(1)\n",
    "print(my_list)"
   ]
  },
  {
   "cell_type": "code",
   "execution_count": 244,
   "id": "ba931585-f966-41db-944b-c2d60c83fe77",
   "metadata": {},
   "outputs": [
    {
     "name": "stdout",
     "output_type": "stream",
     "text": [
      "[6, 5, 4, 3, 99]\n"
     ]
    }
   ],
   "source": [
    "#to reverse the string\n",
    "my_list.reverse()\n",
    "print(my_list)"
   ]
  },
  {
   "cell_type": "code",
   "execution_count": 246,
   "id": "4116c9ef-b4b5-4ced-a81f-9e856fbb7efa",
   "metadata": {},
   "outputs": [
    {
     "name": "stdout",
     "output_type": "stream",
     "text": [
      "[3, 4, 5, 6, 99]\n"
     ]
    }
   ],
   "source": [
    "# to arrange elemnt in assending order\n",
    "my_list.sort()\n",
    "print(my_list)"
   ]
  },
  {
   "cell_type": "code",
   "execution_count": 248,
   "id": "8658f7a4-e069-46a9-8989-4fc50c956e52",
   "metadata": {},
   "outputs": [
    {
     "name": "stdout",
     "output_type": "stream",
     "text": [
      "[99, 6, 5, 4, 3]\n"
     ]
    }
   ],
   "source": [
    "# to arrange the elments in decending order\n",
    "my_list.sort(reverse=True)\n",
    "print(my_list)"
   ]
  },
  {
   "cell_type": "code",
   "execution_count": 250,
   "id": "06949616-68ce-4a9d-82d9-f9a02d84da91",
   "metadata": {},
   "outputs": [
    {
     "name": "stdout",
     "output_type": "stream",
     "text": [
      "[2, 3, 4, 5, 6, 78, 9, 7]\n"
     ]
    }
   ],
   "source": [
    "l=[2,3,4,5]\n",
    "m=[6,78,9,7]\n",
    "l.extend(m)\n",
    "print(l)"
   ]
  },
  {
   "cell_type": "markdown",
   "id": "dbf0d485-2bc5-4dcc-aa19-1ea8deaacc08",
   "metadata": {},
   "source": [
    "# Program  to find second largest number in the list"
   ]
  },
  {
   "cell_type": "code",
   "execution_count": 253,
   "id": "7d210d67-0880-484f-9049-b9f5df9b21f2",
   "metadata": {},
   "outputs": [
    {
     "name": "stdout",
     "output_type": "stream",
     "text": [
      "the second largest elment in the list is : 55\n",
      "[4, 6, 33, 55, 77]\n"
     ]
    }
   ],
   "source": [
    "li=[33,4,55,6,77]\n",
    "li.sort()\n",
    "print(\"the second largest elment in the list is :\",li[-2])\n",
    "print(li)"
   ]
  },
  {
   "cell_type": "markdown",
   "id": "0cd4a58c-6fa9-4071-b984-848f485125ee",
   "metadata": {},
   "source": [
    "# Tuples in python\n",
    "   <li>similar to list(read only)</li>\n",
    "    <li>ordered collection of items</li>\n",
    "    <li>indexible</li>\n",
    "    <li>imutable</li>\n",
    " \n",
    "    \n"
   ]
  },
  {
   "cell_type": "code",
   "execution_count": 256,
   "id": "b0b4a1d7-9e5f-434a-8962-9909ee51795d",
   "metadata": {},
   "outputs": [
    {
     "name": "stdout",
     "output_type": "stream",
     "text": [
      "hellow\n"
     ]
    }
   ],
   "source": [
    "print(\"hellow\")"
   ]
  },
  {
   "cell_type": "markdown",
   "id": "6c1822fd-54e0-46ff-a5b0-8662bc642fb7",
   "metadata": {},
   "source": [
    "# Functons in python\n",
    "<Li>healps to achive reusability of code</Li>\n",
    "<Li>more organize and modular data</Li>\n",
    "\n",
    "<b>syntax  :</b>def fun_name(paramer):\n"
   ]
  },
  {
   "cell_type": "code",
   "execution_count": 259,
   "id": "eddcb9ed-9f15-4fb0-8b2e-cf9287e9e9c7",
   "metadata": {},
   "outputs": [],
   "source": [
    "\n",
    "def greeting(name):\n",
    "    print(\"Good mmorning\",name)"
   ]
  },
  {
   "cell_type": "code",
   "execution_count": 261,
   "id": "c5f3a651-7557-4f7c-8815-e87320699bd4",
   "metadata": {},
   "outputs": [
    {
     "name": "stdout",
     "output_type": "stream",
     "text": [
      "Good mmorning Rajesh\n"
     ]
    }
   ],
   "source": [
    "greeting(\"Rajesh\")"
   ]
  },
  {
   "cell_type": "code",
   "execution_count": 263,
   "id": "8670559b-9626-49a3-aaee-29ac07e4d0b8",
   "metadata": {},
   "outputs": [],
   "source": [
    "def add(a,b):\n",
    "    return(a+b)"
   ]
  },
  {
   "cell_type": "code",
   "execution_count": 265,
   "id": "11e2406f-3f8a-4638-9133-59a259668e3a",
   "metadata": {},
   "outputs": [
    {
     "name": "stdout",
     "output_type": "stream",
     "text": [
      "10\n"
     ]
    }
   ],
   "source": [
    "#add(3,7)\n",
    "c=add(3,7)\n",
    "print(c)"
   ]
  },
  {
   "cell_type": "code",
   "execution_count": 267,
   "id": "0e8ae410-88ad-45a2-b752-8646a87f1790",
   "metadata": {},
   "outputs": [],
   "source": [
    "def product(lst):\n",
    "    s=1\n",
    "    for i in lst:\n",
    "        s*=i\n",
    "    return s"
   ]
  },
  {
   "cell_type": "code",
   "execution_count": 269,
   "id": "2de649bd-2454-4559-b23b-a925e20af02c",
   "metadata": {
    "scrolled": true
   },
   "outputs": [
    {
     "name": "stdout",
     "output_type": "stream",
     "text": [
      "24\n"
     ]
    }
   ],
   "source": [
    "res=product([2,3,4])\n",
    "print(res)"
   ]
  },
  {
   "cell_type": "code",
   "execution_count": 271,
   "id": "b8dfd557-6d42-4c8c-ac53-de32e930ec48",
   "metadata": {},
   "outputs": [
    {
     "name": "stdin",
     "output_type": "stream",
     "text": [
      " enter your actual age : 21\n"
     ]
    },
    {
     "name": "stdout",
     "output_type": "stream",
     "text": [
      "you can vote\n"
     ]
    }
   ],
   "source": [
    "age=int(input(\" enter your actual age :\") )\n",
    "if(age>18):\n",
    "      print(\"you can vote\")\n",
    "else:\n",
    "      print(\"you canot vote\")\n",
    "      \n",
    "\n",
    "        "
   ]
  },
  {
   "cell_type": "markdown",
   "id": "07fe4c2a-19e8-4383-a56e-7cf08b8552e6",
   "metadata": {},
   "source": [
    "# Function argument\n",
    "<b><li>Agument vs Parameter</li></b>\n",
    "<li>defaults arguments</li>\n",
    "<li>arbitary arguments (args)</li>\n",
    "<li>keyword arguments (kwargs)</li>\n",
    "<b>default parameter :</b> parameters that have some default value . They are optonal value"
   ]
  },
  {
   "cell_type": "code",
   "execution_count": 274,
   "id": "d1fb6d21-c507-4843-a843-1864aae3f328",
   "metadata": {},
   "outputs": [],
   "source": [
    "# create one function intro and assign two parameters name(non-default parameter) & nationality(default parameter is indian)\n",
    "def intro(name,nationality='indian'):\n",
    " print(\"Hello\",name)\n",
    " print(\"I am\",nationality)"
   ]
  },
  {
   "cell_type": "code",
   "execution_count": 276,
   "id": "cdfd619c-b18a-43d4-b1be-5952b660f0b3",
   "metadata": {},
   "outputs": [
    {
     "name": "stdout",
     "output_type": "stream",
     "text": [
      "Hello keshav\n",
      "I am indian\n"
     ]
    }
   ],
   "source": [
    " # calling function with default parameter\n",
    "intro('keshav')"
   ]
  },
  {
   "cell_type": "code",
   "execution_count": 278,
   "id": "b3b5b78c-dcc6-45a3-b1a7-74d8d90a7bcd",
   "metadata": {},
   "outputs": [
    {
     "name": "stdout",
     "output_type": "stream",
     "text": [
      "Hello keshav\n",
      "I am American\n"
     ]
    }
   ],
   "source": [
    "# calling with non defaultparameter\n",
    "intro(\"keshav\",\"American\")"
   ]
  },
  {
   "cell_type": "markdown",
   "id": "a0ed5517-62c5-450f-ab16-595310a0a7b5",
   "metadata": {},
   "source": [
    "# Args\n",
    "<b>args :</b> it can recive , any nmber of argument annd it is always stored as a tuple\n"
   ]
  },
  {
   "cell_type": "code",
   "execution_count": 281,
   "id": "fd86e17b-27ef-4c44-8af0-2dd2317977ee",
   "metadata": {},
   "outputs": [],
   "source": [
    "def random_fun(*args):\n",
    "    print(\"hello\",args)\n",
    "    print(type(args))\n",
    "    print(type(random_fun))\n",
    "    for i in args:\n",
    "        print(i**2)\n",
    "        \n"
   ]
  },
  {
   "cell_type": "code",
   "execution_count": 283,
   "id": "b0d37a39-3d09-4d4a-9915-8965f2597efd",
   "metadata": {},
   "outputs": [
    {
     "name": "stdout",
     "output_type": "stream",
     "text": [
      "hello (2, 3, 4, 5)\n",
      "<class 'tuple'>\n",
      "<class 'function'>\n",
      "4\n",
      "9\n",
      "16\n",
      "25\n"
     ]
    }
   ],
   "source": [
    "random_fun(2,3,4,5)\n",
    " \n",
    "       "
   ]
  },
  {
   "cell_type": "markdown",
   "id": "d3d80145-bd2d-4a1a-8080-bad79fe4135b",
   "metadata": {},
   "source": [
    "# Keyword argument\n",
    "<b>Keyword argument :</b> it also take any number arguments and stores in the form of dicationary. Parameter name is mandetary while calling the function "
   ]
  },
  {
   "cell_type": "code",
   "execution_count": 286,
   "id": "31db9448-2d13-4d4d-8d2e-b069fa8c54cf",
   "metadata": {},
   "outputs": [],
   "source": [
    "def introduction(**kargs):\n",
    "    print(kargs)\n",
    "    print(type(kargs))\n",
    "    for k,v in kargs.items():\n",
    "        print(k,\":\",v) "
   ]
  },
  {
   "cell_type": "code",
   "execution_count": 288,
   "id": "0e7e0bb5-6664-48f0-a2d5-fa2d120ad897",
   "metadata": {},
   "outputs": [
    {
     "name": "stdout",
     "output_type": "stream",
     "text": [
      "{'name': 'keshav', 'age': 24, 'hobby': ['singing', 'dancing']}\n",
      "<class 'dict'>\n",
      "name : keshav\n",
      "age : 24\n",
      "hobby : ['singing', 'dancing']\n"
     ]
    }
   ],
   "source": [
    "introduction(name=\"keshav\",age=24,hobby=[\"singing\",\"dancing\"])"
   ]
  },
  {
   "cell_type": "code",
   "execution_count": 290,
   "id": "9f2448ac-4341-4cda-af7b-be988dc48819",
   "metadata": {},
   "outputs": [
    {
     "name": "stdout",
     "output_type": "stream",
     "text": [
      "{'name': 'Rajesh', 'age': 24, 'hobby': ['playing games', 'reading']}\n",
      "<class 'dict'>\n",
      "name : Rajesh\n",
      "age : 24\n",
      "hobby : ['playing games', 'reading']\n"
     ]
    }
   ],
   "source": [
    "introduction(name=\"Rajesh\",age=24,hobby=[\"playing games\",\"reading\"])"
   ]
  },
  {
   "cell_type": "markdown",
   "id": "01cc90c0-6035-4fa2-a40f-d4b29b289065",
   "metadata": {},
   "source": [
    "# Program on prime number"
   ]
  },
  {
   "cell_type": "code",
   "execution_count": 293,
   "id": "4be7e207-3b9c-4cb9-83ea-faa521d56a00",
   "metadata": {},
   "outputs": [
    {
     "name": "stdin",
     "output_type": "stream",
     "text": [
      "enter a number : 3\n"
     ]
    },
    {
     "name": "stdout",
     "output_type": "stream",
     "text": [
      "3 is a prime number\n"
     ]
    }
   ],
   "source": [
    "num= int(input(\"enter a number :\"))\n",
    "\n",
    "flag= False\n",
    "if(num==0 or num==1):\n",
    "    print(num,\"is not a prime number\")\n",
    "elif(num>1):\n",
    "    for i in range(2,num): \n",
    "        if(num%i==0):\n",
    "            flag=True\n",
    "            break\n",
    "    # for checking if flag is true or not\n",
    "    if flag:\n",
    "        print(num,\"is not a prime number\")\n",
    "    else:\n",
    "        print(num,\"is a prime number\")\n",
    "     \n",
    "            "
   ]
  },
  {
   "cell_type": "markdown",
   "id": "9c59cbca-c0df-45d3-b1fb-617a895fcb97",
   "metadata": {},
   "source": [
    "# Modules in python\n",
    "<ol>\n",
    "    <li>module refer to the file contaning python code</li>\n",
    "    <li>modules are used to breakdwn large program file into  small and managable files</li>\n",
    "    \n",
    "</ol>\n",
    "<b>inbuilt modules :</b>\n",
    "<li>os</li>\n",
    "<li>math</li>\n",
    "<li>random</li>\n",
    "\n",
    "\n",
    "<b>custom modules:</b>\n"
   ]
  },
  {
   "cell_type": "code",
   "execution_count": 296,
   "id": "1bdc8531-85d4-4a23-9715-4ac3bf44b7b7",
   "metadata": {},
   "outputs": [],
   "source": [
    "import math"
   ]
  },
  {
   "cell_type": "code",
   "execution_count": 298,
   "id": "ea61025e-da11-4658-b131-d10f1f1553e4",
   "metadata": {},
   "outputs": [
    {
     "data": {
      "text/plain": [
       "120"
      ]
     },
     "execution_count": 298,
     "metadata": {},
     "output_type": "execute_result"
    }
   ],
   "source": [
    "math.factorial(5)"
   ]
  },
  {
   "cell_type": "code",
   "execution_count": 300,
   "id": "8e563c5f-7937-4df0-860b-d88ddf00ee5e",
   "metadata": {},
   "outputs": [],
   "source": [
    "from math import gcd"
   ]
  },
  {
   "cell_type": "code",
   "execution_count": 302,
   "id": "c39c78f8-a73f-4032-9d21-23d8bb75d204",
   "metadata": {},
   "outputs": [
    {
     "data": {
      "text/plain": [
       "2"
      ]
     },
     "execution_count": 302,
     "metadata": {},
     "output_type": "execute_result"
    }
   ],
   "source": [
    "gcd(10,12)"
   ]
  },
  {
   "cell_type": "code",
   "execution_count": 304,
   "id": "1a803fcd-c557-4475-8eb4-c002c7f6eac6",
   "metadata": {},
   "outputs": [],
   "source": [
    "import os"
   ]
  },
  {
   "cell_type": "code",
   "execution_count": 306,
   "id": "ab25e63e-d85d-4ca2-a3c5-311e90e2f99c",
   "metadata": {},
   "outputs": [
    {
     "name": "stdout",
     "output_type": "stream",
     "text": [
      "1\n",
      "2\n",
      "3\n",
      "4\n",
      "6\n",
      "7\n",
      "8\n",
      "9\n",
      "10\n"
     ]
    }
   ],
   "source": [
    "\n",
    "   for i in range(1,11):\n",
    "       if(i==5):\n",
    "           continue\n",
    "       print(i)\n",
    "       \n",
    "  \n",
    "      \n",
    "       "
   ]
  },
  {
   "cell_type": "markdown",
   "id": "4fc92819-2037-460f-a8cb-fefaf4009a51",
   "metadata": {},
   "source": [
    "# OOPs\n",
    "<li>object oriented programing system</li>\n",
    "<li>classes and objects.</li>\n",
    "<b>Four pillers of objeect orinted programing :</b>\n",
    "<li>abstraction<li>\n",
    "<li>Encapsulation<li>\n",
    "<li>Inheritance<li>\n",
    "<li>Polimorphism<li>\n",
    "    \n"
   ]
  },
  {
   "cell_type": "markdown",
   "id": "d449c3d4-6354-4f54-9b93-637bc3c42e49",
   "metadata": {},
   "source": [
    "# Class"
   ]
  },
  {
   "cell_type": "code",
   "execution_count": 310,
   "id": "49007a93-cef3-4cff-89e2-611ba54195df",
   "metadata": {},
   "outputs": [],
   "source": [
    "class Human():          # () is optional\n",
    "    pass     "
   ]
  },
  {
   "cell_type": "markdown",
   "id": "42a6b9bc-d131-4b91-8550-2b239772417d",
   "metadata": {},
   "source": [
    "# Objects;\n",
    "instanses of the classes"
   ]
  },
  {
   "cell_type": "code",
   "execution_count": 313,
   "id": "f3b54542-514e-493a-a34f-e5d7111523a2",
   "metadata": {},
   "outputs": [],
   "source": [
    "keshav=Human()"
   ]
  },
  {
   "cell_type": "code",
   "execution_count": 315,
   "id": "bee636bf-db39-4cdc-a0d2-76acaee5ce9f",
   "metadata": {},
   "outputs": [
    {
     "data": {
      "text/plain": [
       "__main__.Human"
      ]
     },
     "execution_count": 315,
     "metadata": {},
     "output_type": "execute_result"
    }
   ],
   "source": [
    "type(keshav)"
   ]
  },
  {
   "cell_type": "markdown",
   "id": "4bafd579-dc73-4d78-a8c0-2f38f9daa47c",
   "metadata": {},
   "source": [
    "# Defining a condtructor of class:\n",
    "<li>A constructor is a special member of calss  that is created whevewer we created a new object of aclass</li>\n",
    "<li><b>Syntax:<b></li>\n",
    "def __init__(self): # give the space after def keyword"
   ]
  },
  {
   "cell_type": "code",
   "execution_count": 340,
   "id": "00ae4822-ffae-4d44-85a8-c418e711ecb3",
   "metadata": {},
   "outputs": [],
   "source": [
    "class Human:\n",
    "\n",
    "    # Class variables\n",
    "    database = []\n",
    "    population = 0  # Corrected typo from \"populaton\" to \"population\"\n",
    "    id_seq = 101\n",
    "\n",
    "    # Constructor\n",
    "    def __init__(self, name, age, is_alive=True):\n",
    "        print(\"Creating an object ...\")\n",
    "        \n",
    "        # Instance variables\n",
    "        self.name = name\n",
    "        self.age = age\n",
    "        self.is_alive = is_alive\n",
    "        \n",
    "        # Adding ID to the object\n",
    "        self.id = Human.id_seq\n",
    "        Human.id_seq += 1\n",
    "\n",
    "        # Update population and add to database\n",
    "        Human.population += 1\n",
    "        Human.database.append(self)\n",
    "\n",
    "    # Instance method to introduce\n",
    "    def introduce(self):\n",
    "        print(\"Hi, my name is\", self.name, \"and my age is\", self.age)\n",
    "\n",
    "    # Instance method to simulate death\n",
    "    def die(self):\n",
    "        if self.is_alive:\n",
    "            print(self.name, \"is dying...\")\n",
    "            self.is_alive = False\n",
    "            Human.population -= 1\n",
    "        else:\n",
    "            print(self.name, \"is already dead.\")\n",
    "\n",
    "     "
   ]
  },
  {
   "cell_type": "code",
   "execution_count": 342,
   "id": "6edded5d-13d7-4627-9e31-2969e13fe61d",
   "metadata": {},
   "outputs": [
    {
     "name": "stdout",
     "output_type": "stream",
     "text": [
      "Creating an object ...\n",
      "Keshav\n",
      "25\n"
     ]
    }
   ],
   "source": [
    "keshav = Human(\"Keshav\", 25)  # Replace \"Keshav\" and 25 with appropriate values\n",
    "print(keshav.name)  # Output: Keshav\n",
    "print(keshav.age)   # Output: 25"
   ]
  },
  {
   "cell_type": "code",
   "execution_count": 344,
   "id": "cf5bf57c-35c8-466f-926f-1165cd50543e",
   "metadata": {},
   "outputs": [
    {
     "name": "stdout",
     "output_type": "stream",
     "text": [
      "Creating an object ...\n"
     ]
    }
   ],
   "source": [
    "h1 = Human(\"rajesh\",21)"
   ]
  },
  {
   "cell_type": "code",
   "execution_count": 346,
   "id": "c13fb494-13aa-4c11-b5bc-756387d590be",
   "metadata": {},
   "outputs": [
    {
     "name": "stdout",
     "output_type": "stream",
     "text": [
      "rajesh\n"
     ]
    }
   ],
   "source": [
    "print(h1.name)"
   ]
  },
  {
   "cell_type": "code",
   "execution_count": 348,
   "id": "3f534fb5-3d82-49da-ae54-db3e1bd63532",
   "metadata": {},
   "outputs": [
    {
     "name": "stdout",
     "output_type": "stream",
     "text": [
      "21\n"
     ]
    }
   ],
   "source": [
    "print(h1.age)"
   ]
  },
  {
   "cell_type": "code",
   "execution_count": 350,
   "id": "48e1aa7a-6c9a-417e-b2a7-e1b84ffdaeb1",
   "metadata": {},
   "outputs": [
    {
     "name": "stdout",
     "output_type": "stream",
     "text": [
      "Creating an object ...\n"
     ]
    }
   ],
   "source": [
    "h2=Human(\"keshav\",22) "
   ]
  },
  {
   "cell_type": "code",
   "execution_count": 352,
   "id": "a9534970-0e31-46dc-bf46-7bd53db971b5",
   "metadata": {},
   "outputs": [
    {
     "name": "stdout",
     "output_type": "stream",
     "text": [
      "keshav\n"
     ]
    }
   ],
   "source": [
    "print(h2.name)"
   ]
  },
  {
   "cell_type": "code",
   "execution_count": 354,
   "id": "b4dbbddf-2115-467f-aea9-72dc9822fb92",
   "metadata": {},
   "outputs": [
    {
     "name": "stdout",
     "output_type": "stream",
     "text": [
      "22\n"
     ]
    }
   ],
   "source": [
    "print(h2.age)"
   ]
  },
  {
   "cell_type": "markdown",
   "id": "0dda0228-2809-4e57-9ade-fb4d0348041a",
   "metadata": {},
   "source": [
    "# Defining the methods of a instances\n",
    "def introduce(self):"
   ]
  },
  {
   "cell_type": "code",
   "execution_count": 357,
   "id": "3dcdf55f-7d9d-4399-9524-307c3e10914d",
   "metadata": {},
   "outputs": [
    {
     "name": "stdout",
     "output_type": "stream",
     "text": [
      "Creating an object ...\n",
      "Creating an object ...\n"
     ]
    }
   ],
   "source": [
    "obj1=Human(\"keshav\",20)\n",
    "obj2=Human(\"Ravi\",23)"
   ]
  },
  {
   "cell_type": "code",
   "execution_count": 359,
   "id": "67c91cd7-ba89-4c55-b7d9-e05d5b9fe62c",
   "metadata": {},
   "outputs": [
    {
     "name": "stdout",
     "output_type": "stream",
     "text": [
      "Hi, my name is keshav and my age is 20\n"
     ]
    }
   ],
   "source": [
    "obj1.introduce()"
   ]
  },
  {
   "cell_type": "code",
   "execution_count": 361,
   "id": "f85a9495-a3a3-4bf1-a35d-4de7a2c5471d",
   "metadata": {},
   "outputs": [
    {
     "name": "stdout",
     "output_type": "stream",
     "text": [
      "Hi, my name is Ravi and my age is 23\n"
     ]
    }
   ],
   "source": [
    "obj2.introduce()"
   ]
  },
  {
   "cell_type": "code",
   "execution_count": 363,
   "id": "cc61a33d-3e47-42d6-922a-3f3972883b6a",
   "metadata": {},
   "outputs": [
    {
     "name": "stdout",
     "output_type": "stream",
     "text": [
      "keshav\n"
     ]
    }
   ],
   "source": [
    "print(obj1.name)"
   ]
  },
  {
   "cell_type": "code",
   "execution_count": 365,
   "id": "93ecc153-6359-4977-aff6-831a0cff9b5c",
   "metadata": {},
   "outputs": [
    {
     "name": "stdout",
     "output_type": "stream",
     "text": [
      "23\n"
     ]
    }
   ],
   "source": [
    "print(obj2.age)"
   ]
  },
  {
   "cell_type": "markdown",
   "id": "97d5ad22-de0b-49e8-a30b-5a503d740b1e",
   "metadata": {},
   "source": [
    "# Abstracton:\n",
    "is hidding the imlimentation details from the user and showing the important details for the user\n",
    "<b>for ex :-<b> you buy a car you just buy the but you dont now how the breaks are actually works ,how the engine of car actually work"
   ]
  },
  {
   "cell_type": "code",
   "execution_count": 370,
   "id": "61bc69a9-a40e-4dcd-99fe-62fc763250e0",
   "metadata": {},
   "outputs": [
    {
     "name": "stdout",
     "output_type": "stream",
     "text": [
      "Area of rectangle: 50\n",
      "Perimeter of rectangle: 30\n"
     ]
    }
   ],
   "source": [
    "from abc import ABC, abstractmethod\n",
    "\n",
    "# Abstract class\n",
    "class Shape(ABC):\n",
    "    @abstractmethod\n",
    "    def area(self):\n",
    "        pass\n",
    "\n",
    "    @abstractmethod\n",
    "    def perimeter(self):\n",
    "        pass\n",
    "\n",
    "# Concrete class inheriting the abstract class\n",
    "class Rectangle(Shape):\n",
    "    def __init__(self, length, width):\n",
    "        self.length = length\n",
    "        self.width = width\n",
    "\n",
    "    # Implementing the abstract methods\n",
    "    def area(self):\n",
    "        return self.length * self.width\n",
    "\n",
    "    def perimeter(self):\n",
    "        return 2 * (self.length + self.width)\n",
    "\n",
    "# Creating an object of Rectangle\n",
    "rect = Rectangle(10, 5)\n",
    "\n",
    "print(\"Area of rectangle:\", rect.area())\n",
    "print(\"Perimeter of rectangle:\", rect.perimeter())\n"
   ]
  },
  {
   "cell_type": "markdown",
   "id": "f4a98af2-e37c-420f-b93f-89c5f77ba8cc",
   "metadata": {},
   "source": [
    "# Encapsulation\n",
    "awrapping up of data under one name <b>for ex:-<b>it is like dictionary ,it is store multipe details in one Name"
   ]
  },
  {
   "cell_type": "code",
   "execution_count": 368,
   "id": "a6e27138-f595-4485-800a-cc51ab7a9d87",
   "metadata": {},
   "outputs": [
    {
     "name": "stdout",
     "output_type": "stream",
     "text": [
      "Initial Balance: 1000\n",
      "₹500 deposited successfully.\n",
      "Updated Balance: 1500\n",
      "₹300 withdrawn successfully.\n",
      "Final Balance: 1200\n",
      "Accessing private balance: 1200\n"
     ]
    }
   ],
   "source": [
    "class BankAccount:\n",
    "    def __init__(self, account_number, balance):\n",
    "        self.account_number = account_number  # Public attribute\n",
    "        self.__balance = balance  # Private attribute (encapsulated)\n",
    "    \n",
    "    # Public method to get the balance\n",
    "    def get_balance(self):\n",
    "        return self.__balance\n",
    "    \n",
    "    # Public method to deposit money\n",
    "    def deposit(self, amount):\n",
    "        if amount > 0:\n",
    "            self.__balance += amount\n",
    "            print(f\"₹{amount} deposited successfully.\")\n",
    "        else:\n",
    "            print(\"Deposit amount must be positive.\")\n",
    "    \n",
    "    # Public method to withdraw money\n",
    "    def withdraw(self, amount):\n",
    "        if 0 < amount <= self.__balance:\n",
    "            self.__balance -= amount\n",
    "            print(f\"₹{amount} withdrawn successfully.\")\n",
    "        else:\n",
    "            print(\"Invalid amount or insufficient balance.\")\n",
    "    \n",
    "    # Private method (example for internal use)\n",
    "    def __hidden_method(self):\n",
    "        print(\"This is a hidden method!\")\n",
    "\n",
    "# Creating a bank account\n",
    "account = BankAccount(\"123456789\", 1000)\n",
    "\n",
    "# Accessing public methods\n",
    "print(\"Initial Balance:\", account.get_balance())  # Accessing private balance via public method\n",
    "account.deposit(500)\n",
    "print(\"Updated Balance:\", account.get_balance())\n",
    "account.withdraw(300)\n",
    "print(\"Final Balance:\", account.get_balance())\n",
    "\n",
    "# Attempt to access private attribute directly\n",
    "# print(account.__balance)  # AttributeError: 'BankAccount' object has no attribute '__balance'\n",
    "\n",
    "# Accessing private attribute (not recommended, for demo purposes)\n",
    "print(\"Accessing private balance:\", account._BankAccount__balance)  # Name mangling\n",
    "\n",
    "# Attempt to call private method\n",
    "# account.__hidden_method()  # AttributeError\n"
   ]
  },
  {
   "cell_type": "markdown",
   "id": "b548d441-db95-4642-95a4-e0d4fd5dcbc5",
   "metadata": {},
   "source": [
    "# Class variables "
   ]
  },
  {
   "cell_type": "code",
   "execution_count": 373,
   "id": "638e2b44-a95d-41d4-91e8-e7f8d31a9a79",
   "metadata": {},
   "outputs": [
    {
     "name": "stdout",
     "output_type": "stream",
     "text": [
      "Creating an object ...\n"
     ]
    }
   ],
   "source": [
    "h1=Human(\"keshav\",23)"
   ]
  },
  {
   "cell_type": "code",
   "execution_count": 375,
   "id": "e08fb90f-3255-4608-8b98-04fe6a7c22c4",
   "metadata": {},
   "outputs": [
    {
     "data": {
      "text/plain": [
       "[<__main__.Human at 0x20e6cd97c50>,\n",
       " <__main__.Human at 0x20e6ccc5400>,\n",
       " <__main__.Human at 0x20e6ccc5100>,\n",
       " <__main__.Human at 0x20e6ccc7bf0>,\n",
       " <__main__.Human at 0x20e69d559a0>,\n",
       " <__main__.Human at 0x20e6bba7080>]"
      ]
     },
     "execution_count": 375,
     "metadata": {},
     "output_type": "execute_result"
    }
   ],
   "source": [
    "h1.database"
   ]
  },
  {
   "cell_type": "code",
   "execution_count": 377,
   "id": "e5484666-b92f-417a-8354-e4b56c4f077c",
   "metadata": {},
   "outputs": [
    {
     "data": {
      "text/plain": [
       "[<__main__.Human at 0x20e6cd97c50>,\n",
       " <__main__.Human at 0x20e6ccc5400>,\n",
       " <__main__.Human at 0x20e6ccc5100>,\n",
       " <__main__.Human at 0x20e6ccc7bf0>,\n",
       " <__main__.Human at 0x20e69d559a0>,\n",
       " <__main__.Human at 0x20e6bba7080>]"
      ]
     },
     "execution_count": 377,
     "metadata": {},
     "output_type": "execute_result"
    }
   ],
   "source": [
    "Human.database"
   ]
  },
  {
   "cell_type": "markdown",
   "id": "95cbf938-e24b-4f20-a7bd-147c0ca0a912",
   "metadata": {},
   "source": [
    "# Add die() Method"
   ]
  },
  {
   "cell_type": "code",
   "execution_count": 380,
   "id": "d27b299a-041a-4c4c-bb9d-4385ed5d048d",
   "metadata": {},
   "outputs": [
    {
     "name": "stdout",
     "output_type": "stream",
     "text": [
      "Creating an object ...\n",
      "Creating an object ...\n"
     ]
    }
   ],
   "source": [
    "h3=Human(\"mohit\",23)\n",
    "h4=Human(\"swapnil\",24)"
   ]
  },
  {
   "cell_type": "markdown",
   "id": "cb03c286-b69c-4636-86c3-3b7627905adf",
   "metadata": {},
   "source": [
    "# Inheritance:\n",
    "it is  process where one class aquire all the metods and prperties of another class\n",
    "<li>Syntax:</li>\n",
    "<li>class childClassName(ParentClassName)</li>"
   ]
  },
  {
   "cell_type": "code",
   "execution_count": 382,
   "id": "377150a8-8286-422f-a560-5c5326913bb4",
   "metadata": {},
   "outputs": [
    {
     "name": "stdout",
     "output_type": "stream",
     "text": [
      "Generic Animal makes a sound.\n",
      "Buddy says Woof!\n",
      "Kitty says Meow!\n"
     ]
    }
   ],
   "source": [
    "# Parent Class\n",
    "class Animal:\n",
    "    def __init__(self, name):\n",
    "        self.name = name\n",
    "\n",
    "    def speak(self):\n",
    "        print(f\"{self.name} makes a sound.\")\n",
    "\n",
    "# Child Class (inherits from Animal)\n",
    "class Dog(Animal):\n",
    "    def speak(self):\n",
    "        print(f\"{self.name} says Woof!\")\n",
    "\n",
    "# Another Child Class\n",
    "class Cat(Animal):\n",
    "    def speak(self):\n",
    "        print(f\"{self.name} says Meow!\")\n",
    "\n",
    "# Creating objects\n",
    "animal = Animal(\"Generic Animal\")\n",
    "dog = Dog(\"Buddy\")\n",
    "cat = Cat(\"Kitty\")\n",
    "\n",
    "# Calling methods\n",
    "animal.speak()  # Output: Generic Animal makes a sound.\n",
    "dog.speak()     # Output: Buddy says Woof!\n",
    "cat.speak()     # Output: Kitty says Meow!\n"
   ]
  },
  {
   "cell_type": "markdown",
   "id": "84db0bf8-e43e-498a-8cc5-edc1737f0dc0",
   "metadata": {},
   "source": [
    "### "
   ]
  }
 ],
 "metadata": {
  "kernelspec": {
   "display_name": "Python [conda env:base] *",
   "language": "python",
   "name": "conda-base-py"
  },
  "language_info": {
   "codemirror_mode": {
    "name": "ipython",
    "version": 3
   },
   "file_extension": ".py",
   "mimetype": "text/x-python",
   "name": "python",
   "nbconvert_exporter": "python",
   "pygments_lexer": "ipython3",
   "version": "3.12.7"
  }
 },
 "nbformat": 4,
 "nbformat_minor": 5
}
